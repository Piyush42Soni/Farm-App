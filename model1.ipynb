{
 "cells": [
  {
   "cell_type": "code",
   "execution_count": 1,
   "id": "1f89c4ef",
   "metadata": {},
   "outputs": [],
   "source": [
    "#using keras"
   ]
  },
  {
   "cell_type": "code",
   "execution_count": 2,
   "id": "51c3cb40",
   "metadata": {},
   "outputs": [],
   "source": [
    "import tensorflow as tf\n",
    "import numpy as np\n",
    "import matplotlib.pyplot as plt\n",
    "from pandas import read_csv\n",
    "from sklearn.metrics import confusion_matrix,ConfusionMatrixDisplay,classification_report"
   ]
  },
  {
   "cell_type": "code",
   "execution_count": 3,
   "id": "6388f5be",
   "metadata": {},
   "outputs": [],
   "source": [
    "filename = 'C:/Users/dell ap/Downloads/archive (1)/Crop_recommendation.csv'\n",
    "numFeatures = 7\n",
    "data = read_csv(filename)\n",
    "crops = ['apple',\n",
    " 'banana',\n",
    " 'blackgram',\n",
    " 'chickpea',\n",
    " 'coconut',\n",
    " 'coffee',\n",
    " 'cotton',\n",
    " 'grapes',\n",
    " 'jute',\n",
    " 'kidneybeans',\n",
    " 'lentil',\n",
    " 'maize',\n",
    " 'mango',\n",
    " 'mothbeans',\n",
    " 'mungbean',\n",
    " 'muskmelon',\n",
    " 'orange',\n",
    " 'papaya',\n",
    " 'pigeonpeas',\n",
    " 'pomegranate',\n",
    " 'rice',\n",
    " 'watermelon']\n",
    "numLabels = len(crops)"
   ]
  },
  {
   "cell_type": "code",
   "execution_count": 10,
   "id": "6cbd5a39",
   "metadata": {},
   "outputs": [
    {
     "data": {
      "text/plain": [
       "N                     140\n",
       "P                     145\n",
       "K                     205\n",
       "temperature     43.675493\n",
       "humidity        99.981876\n",
       "ph               9.935091\n",
       "rainfall       298.560117\n",
       "label          watermelon\n",
       "dtype: object"
      ]
     },
     "execution_count": 10,
     "metadata": {},
     "output_type": "execute_result"
    }
   ],
   "source": [
    "(data.max())"
   ]
  },
  {
   "cell_type": "code",
   "execution_count": 11,
   "id": "1ce031d6",
   "metadata": {},
   "outputs": [
    {
     "data": {
      "text/plain": [
       "N                      0\n",
       "P                      5\n",
       "K                      5\n",
       "temperature     8.825675\n",
       "humidity        14.25804\n",
       "ph              3.504752\n",
       "rainfall       20.211267\n",
       "label              apple\n",
       "dtype: object"
      ]
     },
     "execution_count": 11,
     "metadata": {},
     "output_type": "execute_result"
    }
   ],
   "source": [
    "(data.min())"
   ]
  },
  {
   "cell_type": "code",
   "execution_count": 4,
   "id": "a9eeb7e4",
   "metadata": {},
   "outputs": [],
   "source": [
    "xDataset = np.array([[x[0],x[1],x[2],x[3],x[4],x[5],x[6]] for x in data.values])\n",
    "yDataset = np.array([crops.index(y[7]) for y in data.values])\n",
    "\n",
    "for i in range(numFeatures):\n",
    "    xDataset.T[i]=(xDataset.T[i]-xDataset.T[i].min())/(xDataset.T[i].max()-xDataset.T[i].min())\n",
    "\n",
    "trainIndices    = np.random.choice(len(xDataset), round(len(xDataset) * 0.9), replace = False)\n",
    "testIndices     = np.array(list(set(range(len(xDataset))) - set(trainIndices)))\n",
    "\n",
    "xTrain          = xDataset[trainIndices]\n",
    "xTest           = xDataset[testIndices]\n",
    "yTrain          = yDataset[trainIndices]\n",
    "yTest           = yDataset[testIndices]"
   ]
  },
  {
   "cell_type": "code",
   "execution_count": 5,
   "id": "a9573653",
   "metadata": {
    "scrolled": true
   },
   "outputs": [
    {
     "name": "stdout",
     "output_type": "stream",
     "text": [
      "Epoch 1/100\n",
      "62/62 [==============================] - 1s 2ms/step - loss: 2.9058 - accuracy: 0.0965 - mse: 149.9193\n",
      "Epoch 2/100\n",
      "62/62 [==============================] - 0s 2ms/step - loss: 2.3492 - accuracy: 0.2116 - mse: 149.9214\n",
      "Epoch 3/100\n",
      "62/62 [==============================] - 0s 3ms/step - loss: 1.8103 - accuracy: 0.4086 - mse: 149.9245\n",
      "Epoch 4/100\n",
      "62/62 [==============================] - 0s 3ms/step - loss: 1.3540 - accuracy: 0.5586 - mse: 149.9286\n",
      "Epoch 5/100\n",
      "62/62 [==============================] - 0s 3ms/step - loss: 0.9834 - accuracy: 0.6833 - mse: 149.9335\n",
      "Epoch 6/100\n",
      "62/62 [==============================] - 0s 3ms/step - loss: 0.7306 - accuracy: 0.7561 - mse: 149.9383\n",
      "Epoch 7/100\n",
      "62/62 [==============================] - 0s 3ms/step - loss: 0.5841 - accuracy: 0.8030 - mse: 149.9417\n",
      "Epoch 8/100\n",
      "62/62 [==============================] - 0s 2ms/step - loss: 0.4776 - accuracy: 0.8465 - mse: 149.9446\n",
      "Epoch 9/100\n",
      "62/62 [==============================] - 0s 2ms/step - loss: 0.4082 - accuracy: 0.8707 - mse: 149.9469\n",
      "Epoch 10/100\n",
      "62/62 [==============================] - 0s 3ms/step - loss: 0.3401 - accuracy: 0.8975 - mse: 149.9488\n",
      "Epoch 11/100\n",
      "62/62 [==============================] - 0s 3ms/step - loss: 0.2930 - accuracy: 0.9131 - mse: 149.9504\n",
      "Epoch 12/100\n",
      "62/62 [==============================] - 0s 3ms/step - loss: 0.2365 - accuracy: 0.9364 - mse: 149.9519\n",
      "Epoch 13/100\n",
      "62/62 [==============================] - 0s 3ms/step - loss: 0.2178 - accuracy: 0.9384 - mse: 149.9530\n",
      "Epoch 14/100\n",
      "62/62 [==============================] - 0s 3ms/step - loss: 0.1902 - accuracy: 0.9389 - mse: 149.9541\n",
      "Epoch 15/100\n",
      "62/62 [==============================] - 0s 3ms/step - loss: 0.1787 - accuracy: 0.9460 - mse: 149.9546\n",
      "Epoch 16/100\n",
      "62/62 [==============================] - 0s 3ms/step - loss: 0.1612 - accuracy: 0.9485 - mse: 149.9556\n",
      "Epoch 17/100\n",
      "62/62 [==============================] - 0s 3ms/step - loss: 0.1445 - accuracy: 0.9540 - mse: 149.9561\n",
      "Epoch 18/100\n",
      "62/62 [==============================] - 0s 3ms/step - loss: 0.1433 - accuracy: 0.9535 - mse: 149.9565\n",
      "Epoch 19/100\n",
      "62/62 [==============================] - 0s 3ms/step - loss: 0.1183 - accuracy: 0.9657 - mse: 149.9571\n",
      "Epoch 20/100\n",
      "62/62 [==============================] - 0s 2ms/step - loss: 0.1110 - accuracy: 0.9697 - mse: 149.9576\n",
      "Epoch 21/100\n",
      "62/62 [==============================] - 0s 2ms/step - loss: 0.1083 - accuracy: 0.9662 - mse: 149.9578\n",
      "Epoch 22/100\n",
      "62/62 [==============================] - 0s 3ms/step - loss: 0.1034 - accuracy: 0.9702 - mse: 149.9580\n",
      "Epoch 23/100\n",
      "62/62 [==============================] - 0s 2ms/step - loss: 0.1017 - accuracy: 0.9662 - mse: 149.9582\n",
      "Epoch 24/100\n",
      "62/62 [==============================] - 0s 2ms/step - loss: 0.0979 - accuracy: 0.9702 - mse: 149.9584\n",
      "Epoch 25/100\n",
      "62/62 [==============================] - 0s 2ms/step - loss: 0.0823 - accuracy: 0.9727 - mse: 149.9586\n",
      "Epoch 26/100\n",
      "62/62 [==============================] - 0s 3ms/step - loss: 0.0894 - accuracy: 0.9682 - mse: 149.9589\n",
      "Epoch 27/100\n",
      "62/62 [==============================] - 0s 3ms/step - loss: 0.0805 - accuracy: 0.9727 - mse: 149.9590\n",
      "Epoch 28/100\n",
      "62/62 [==============================] - 0s 4ms/step - loss: 0.0775 - accuracy: 0.9773 - mse: 149.9592\n",
      "Epoch 29/100\n",
      "62/62 [==============================] - 0s 3ms/step - loss: 0.0775 - accuracy: 0.9763 - mse: 149.9593\n",
      "Epoch 30/100\n",
      "62/62 [==============================] - 0s 3ms/step - loss: 0.0655 - accuracy: 0.9803 - mse: 149.9596\n",
      "Epoch 31/100\n",
      "62/62 [==============================] - 0s 3ms/step - loss: 0.0685 - accuracy: 0.9747 - mse: 149.9596\n",
      "Epoch 32/100\n",
      "62/62 [==============================] - 0s 3ms/step - loss: 0.0656 - accuracy: 0.9783 - mse: 149.9598\n",
      "Epoch 33/100\n",
      "62/62 [==============================] - 0s 3ms/step - loss: 0.0699 - accuracy: 0.9803 - mse: 149.9597\n",
      "Epoch 34/100\n",
      "62/62 [==============================] - 0s 3ms/step - loss: 0.0583 - accuracy: 0.9808 - mse: 149.9598\n",
      "Epoch 35/100\n",
      "62/62 [==============================] - 0s 3ms/step - loss: 0.0591 - accuracy: 0.9803 - mse: 149.9600\n",
      "Epoch 36/100\n",
      "62/62 [==============================] - 0s 4ms/step - loss: 0.0578 - accuracy: 0.9833 - mse: 149.9600\n",
      "Epoch 37/100\n",
      "62/62 [==============================] - 0s 3ms/step - loss: 0.0628 - accuracy: 0.9763 - mse: 149.9601\n",
      "Epoch 38/100\n",
      "62/62 [==============================] - 0s 3ms/step - loss: 0.0515 - accuracy: 0.9823 - mse: 149.9602\n",
      "Epoch 39/100\n",
      "62/62 [==============================] - 0s 3ms/step - loss: 0.0684 - accuracy: 0.9768 - mse: 149.9599\n",
      "Epoch 40/100\n",
      "62/62 [==============================] - 0s 4ms/step - loss: 0.0520 - accuracy: 0.9854 - mse: 149.9604\n",
      "Epoch 41/100\n",
      "62/62 [==============================] - 0s 3ms/step - loss: 0.0563 - accuracy: 0.9783 - mse: 149.9602\n",
      "Epoch 42/100\n",
      "62/62 [==============================] - 0s 3ms/step - loss: 0.0460 - accuracy: 0.9869 - mse: 149.9605\n",
      "Epoch 43/100\n",
      "62/62 [==============================] - 0s 3ms/step - loss: 0.0523 - accuracy: 0.9823 - mse: 149.9604\n",
      "Epoch 44/100\n",
      "62/62 [==============================] - 0s 4ms/step - loss: 0.0419 - accuracy: 0.9879 - mse: 149.9606\n",
      "Epoch 45/100\n",
      "62/62 [==============================] - 0s 3ms/step - loss: 0.0509 - accuracy: 0.9833 - mse: 149.9606\n",
      "Epoch 46/100\n",
      "62/62 [==============================] - 0s 3ms/step - loss: 0.0527 - accuracy: 0.9859 - mse: 149.9604\n",
      "Epoch 47/100\n",
      "62/62 [==============================] - 0s 4ms/step - loss: 0.0418 - accuracy: 0.9894 - mse: 149.9606\n",
      "Epoch 48/100\n",
      "62/62 [==============================] - 0s 3ms/step - loss: 0.0450 - accuracy: 0.9874 - mse: 149.9606\n",
      "Epoch 49/100\n",
      "62/62 [==============================] - 0s 3ms/step - loss: 0.0469 - accuracy: 0.9833 - mse: 149.9607\n",
      "Epoch 50/100\n",
      "62/62 [==============================] - 0s 4ms/step - loss: 0.0465 - accuracy: 0.9843 - mse: 149.9606\n",
      "Epoch 51/100\n",
      "62/62 [==============================] - 0s 3ms/step - loss: 0.0352 - accuracy: 0.9879 - mse: 149.9609\n",
      "Epoch 52/100\n",
      "62/62 [==============================] - 0s 3ms/step - loss: 0.0496 - accuracy: 0.9808 - mse: 149.9609\n",
      "Epoch 53/100\n",
      "62/62 [==============================] - 0s 3ms/step - loss: 0.0381 - accuracy: 0.9874 - mse: 149.9608\n",
      "Epoch 54/100\n",
      "62/62 [==============================] - 0s 4ms/step - loss: 0.0408 - accuracy: 0.9859 - mse: 149.9607\n",
      "Epoch 55/100\n",
      "62/62 [==============================] - 0s 2ms/step - loss: 0.0354 - accuracy: 0.9874 - mse: 149.9610\n",
      "Epoch 56/100\n",
      "62/62 [==============================] - 0s 3ms/step - loss: 0.0382 - accuracy: 0.9889 - mse: 149.9610\n",
      "Epoch 57/100\n",
      "62/62 [==============================] - 0s 3ms/step - loss: 0.0376 - accuracy: 0.9833 - mse: 149.9609\n",
      "Epoch 58/100\n",
      "62/62 [==============================] - 0s 4ms/step - loss: 0.0480 - accuracy: 0.9813 - mse: 149.9609\n",
      "Epoch 59/100\n",
      "62/62 [==============================] - 0s 5ms/step - loss: 0.0393 - accuracy: 0.9879 - mse: 149.9609\n",
      "Epoch 60/100\n",
      "62/62 [==============================] - 0s 3ms/step - loss: 0.0449 - accuracy: 0.9848 - mse: 149.9610\n",
      "Epoch 61/100\n",
      "62/62 [==============================] - 0s 5ms/step - loss: 0.0329 - accuracy: 0.9879 - mse: 149.9612\n",
      "Epoch 62/100\n",
      "62/62 [==============================] - 0s 3ms/step - loss: 0.0388 - accuracy: 0.9843 - mse: 149.9612\n",
      "Epoch 63/100\n",
      "62/62 [==============================] - 0s 4ms/step - loss: 0.0435 - accuracy: 0.9854 - mse: 149.9610\n",
      "Epoch 64/100\n",
      "62/62 [==============================] - 0s 3ms/step - loss: 0.0329 - accuracy: 0.9874 - mse: 149.9612\n",
      "Epoch 65/100\n",
      "62/62 [==============================] - 0s 4ms/step - loss: 0.0260 - accuracy: 0.9914 - mse: 149.9613\n",
      "Epoch 66/100\n",
      "62/62 [==============================] - 0s 3ms/step - loss: 0.0348 - accuracy: 0.9889 - mse: 149.9611\n",
      "Epoch 67/100\n",
      "62/62 [==============================] - 0s 3ms/step - loss: 0.0381 - accuracy: 0.9848 - mse: 149.9611\n",
      "Epoch 68/100\n",
      "62/62 [==============================] - 0s 3ms/step - loss: 0.0382 - accuracy: 0.9884 - mse: 149.9612\n",
      "Epoch 69/100\n",
      "62/62 [==============================] - 0s 3ms/step - loss: 0.0388 - accuracy: 0.9823 - mse: 149.9612\n",
      "Epoch 70/100\n",
      "62/62 [==============================] - 0s 2ms/step - loss: 0.0385 - accuracy: 0.9864 - mse: 149.9611\n",
      "Epoch 71/100\n",
      "62/62 [==============================] - 0s 2ms/step - loss: 0.0362 - accuracy: 0.9884 - mse: 149.9613\n",
      "Epoch 72/100\n",
      "62/62 [==============================] - 0s 3ms/step - loss: 0.0385 - accuracy: 0.9843 - mse: 149.9612\n",
      "Epoch 73/100\n",
      "62/62 [==============================] - 0s 3ms/step - loss: 0.0288 - accuracy: 0.9904 - mse: 149.9614\n",
      "Epoch 74/100\n",
      "62/62 [==============================] - 0s 2ms/step - loss: 0.0290 - accuracy: 0.9884 - mse: 149.9613\n",
      "Epoch 75/100\n",
      "62/62 [==============================] - 0s 2ms/step - loss: 0.0603 - accuracy: 0.9773 - mse: 149.9611\n",
      "Epoch 76/100\n",
      "62/62 [==============================] - 0s 2ms/step - loss: 0.0866 - accuracy: 0.9702 - mse: 149.9606\n",
      "Epoch 77/100\n",
      "62/62 [==============================] - 0s 3ms/step - loss: 0.0338 - accuracy: 0.9894 - mse: 149.9612\n",
      "Epoch 78/100\n",
      "62/62 [==============================] - 0s 3ms/step - loss: 0.0294 - accuracy: 0.9864 - mse: 149.9613\n",
      "Epoch 79/100\n",
      "62/62 [==============================] - 0s 3ms/step - loss: 0.0309 - accuracy: 0.9899 - mse: 149.9613\n",
      "Epoch 80/100\n",
      "62/62 [==============================] - 0s 3ms/step - loss: 0.0354 - accuracy: 0.9848 - mse: 149.9613\n",
      "Epoch 81/100\n",
      "62/62 [==============================] - 0s 3ms/step - loss: 0.0321 - accuracy: 0.9909 - mse: 149.9614\n",
      "Epoch 82/100\n",
      "62/62 [==============================] - 0s 4ms/step - loss: 0.0310 - accuracy: 0.9894 - mse: 149.9614\n",
      "Epoch 83/100\n",
      "62/62 [==============================] - 0s 3ms/step - loss: 0.0279 - accuracy: 0.9879 - mse: 149.9615\n",
      "Epoch 84/100\n",
      "62/62 [==============================] - 0s 3ms/step - loss: 0.0294 - accuracy: 0.9859 - mse: 149.9614\n",
      "Epoch 85/100\n",
      "62/62 [==============================] - 0s 2ms/step - loss: 0.0272 - accuracy: 0.9909 - mse: 149.9615\n",
      "Epoch 86/100\n",
      "62/62 [==============================] - 0s 3ms/step - loss: 0.0279 - accuracy: 0.9894 - mse: 149.9614\n",
      "Epoch 87/100\n",
      "62/62 [==============================] - 0s 3ms/step - loss: 0.0328 - accuracy: 0.9874 - mse: 149.9615\n",
      "Epoch 88/100\n",
      "62/62 [==============================] - 0s 3ms/step - loss: 0.0279 - accuracy: 0.9889 - mse: 149.9616\n",
      "Epoch 89/100\n",
      "62/62 [==============================] - 0s 5ms/step - loss: 0.0351 - accuracy: 0.9854 - mse: 149.9614\n",
      "Epoch 90/100\n",
      "62/62 [==============================] - 0s 3ms/step - loss: 0.0305 - accuracy: 0.9864 - mse: 149.9615\n",
      "Epoch 91/100\n",
      "62/62 [==============================] - 0s 3ms/step - loss: 0.0348 - accuracy: 0.9859 - mse: 149.9613\n",
      "Epoch 92/100\n",
      "62/62 [==============================] - 0s 3ms/step - loss: 0.0291 - accuracy: 0.9884 - mse: 149.9614\n",
      "Epoch 93/100\n",
      "62/62 [==============================] - 0s 4ms/step - loss: 0.0300 - accuracy: 0.9869 - mse: 149.9614\n",
      "Epoch 94/100\n",
      "62/62 [==============================] - 0s 4ms/step - loss: 0.0229 - accuracy: 0.9909 - mse: 149.9616\n",
      "Epoch 95/100\n",
      "62/62 [==============================] - 0s 5ms/step - loss: 0.0289 - accuracy: 0.9884 - mse: 149.9615\n",
      "Epoch 96/100\n",
      "62/62 [==============================] - 0s 4ms/step - loss: 0.0251 - accuracy: 0.9869 - mse: 149.9615\n",
      "Epoch 97/100\n",
      "62/62 [==============================] - 0s 2ms/step - loss: 0.0408 - accuracy: 0.9843 - mse: 149.9614\n",
      "Epoch 98/100\n",
      "62/62 [==============================] - 0s 3ms/step - loss: 0.0271 - accuracy: 0.9899 - mse: 149.9616\n",
      "Epoch 99/100\n",
      "62/62 [==============================] - 0s 3ms/step - loss: 0.0249 - accuracy: 0.9904 - mse: 149.9616\n",
      "Epoch 100/100\n",
      "62/62 [==============================] - 0s 2ms/step - loss: 0.0257 - accuracy: 0.9889 - mse: 149.9616\n",
      "7/7 [==============================] - 0s 1ms/step - loss: 0.0548 - accuracy: 0.9636 - mse: 146.2458\n"
     ]
    },
    {
     "data": {
      "text/plain": [
       "[0.05481541529297829, 0.9636363387107849, 146.2457733154297]"
      ]
     },
     "execution_count": 5,
     "metadata": {},
     "output_type": "execute_result"
    }
   ],
   "source": [
    "tf.keras.backend.clear_session()\n",
    "model = tf.keras.models.Sequential([tf.keras.layers.Dense(1000, input_shape=(numFeatures,), activation=tf.nn.relu), \n",
    "                                    tf.keras.layers.Dense(100, activation=tf.nn.relu), \n",
    "                                    tf.keras.layers.Dense(10, activation=tf.nn.relu), \n",
    "                                    tf.keras.layers.Dense(numLabels, activation=tf.nn.softmax)])\n",
    "model.compile(loss='sparse_categorical_crossentropy',optimizer='adam',metrics=['accuracy','mse'])\n",
    "model.fit(xTrain, yTrain, epochs=100)\n",
    "model.evaluate(xTest, yTest)"
   ]
  },
  {
   "cell_type": "code",
   "execution_count": 6,
   "id": "dfaf0695",
   "metadata": {
    "scrolled": false
   },
   "outputs": [
    {
     "name": "stdout",
     "output_type": "stream",
     "text": [
      "7/7 [==============================] - 0s 1ms/step\n"
     ]
    },
    {
     "data": {
      "image/png": "[encoded data removed]",
      "text/plain": [
       "<Figure size 432x288 with 2 Axes>"
      ]
     },
     "metadata": {
      "needs_background": "light"
     },
     "output_type": "display_data"
    }
   ],
   "source": [
    "y_prediction = model.predict(xTest)\n",
    "y_prediction = np.argmax (y_prediction, axis = 1)\n",
    "#y_test=np.argmax(yTest, axis=1)\n",
    "#Create confusion matrix and normalizes it over predicted (columns)\n",
    "result = confusion_matrix(yTest, y_prediction , normalize='pred')\n",
    "cm_display = ConfusionMatrixDisplay(confusion_matrix = result, display_labels = crops)\n",
    "\n",
    "cm_display.plot()\n",
    "plt.show() "
   ]
  },
  {
   "cell_type": "code",
   "execution_count": 7,
   "id": "616b1164",
   "metadata": {},
   "outputs": [
    {
     "name": "stdout",
     "output_type": "stream",
     "text": [
      "              precision    recall  f1-score   support\n",
      "\n",
      "           0       1.00      1.00      1.00        11\n",
      "           1       1.00      1.00      1.00        13\n",
      "           2       1.00      1.00      1.00         6\n",
      "           3       1.00      1.00      1.00        11\n",
      "           4       1.00      1.00      1.00        10\n",
      "           5       1.00      1.00      1.00        11\n",
      "           6       0.90      1.00      0.95         9\n",
      "           7       1.00      1.00      1.00         8\n",
      "           8       0.83      0.83      0.83        12\n",
      "           9       0.88      1.00      0.94        15\n",
      "          10       0.90      1.00      0.95         9\n",
      "          11       1.00      0.88      0.93         8\n",
      "          12       1.00      1.00      1.00        11\n",
      "          13       1.00      0.92      0.96        12\n",
      "          14       1.00      1.00      1.00         5\n",
      "          15       1.00      1.00      1.00         8\n",
      "          16       1.00      1.00      1.00        11\n",
      "          17       1.00      1.00      1.00         8\n",
      "          18       1.00      0.86      0.92        14\n",
      "          19       1.00      1.00      1.00         9\n",
      "          20       0.82      0.82      0.82        11\n",
      "          21       1.00      1.00      1.00         8\n",
      "\n",
      "    accuracy                           0.96       220\n",
      "   macro avg       0.97      0.97      0.97       220\n",
      "weighted avg       0.97      0.96      0.96       220\n",
      "\n"
     ]
    }
   ],
   "source": [
    "print(classification_report(yTest, y_prediction))"
   ]
  },
  {
   "cell_type": "code",
   "execution_count": null,
   "id": "a3120b26",
   "metadata": {},
   "outputs": [],
   "source": []
  }
 ],
 "metadata": {
  "kernelspec": {
   "display_name": "Python 3 (ipykernel)",
   "language": "python",
   "name": "python3"
  },
  "language_info": {
   "codemirror_mode": {
    "name": "ipython",
    "version": 3
   },
   "file_extension": ".py",
   "mimetype": "text/x-python",
   "name": "python",
   "nbconvert_exporter": "python",
   "pygments_lexer": "ipython3",
   "version": "3.10.2"
  }
 },
 "nbformat": 4,
 "nbformat_minor": 5
}
