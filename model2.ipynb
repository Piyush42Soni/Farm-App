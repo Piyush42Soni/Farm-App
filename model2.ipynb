{
 "cells": [
  {
   "cell_type": "code",
   "execution_count": 71,
   "metadata": {},
   "outputs": [],
   "source": [
    "from sklearn.metrics import confusion_matrix\n",
    "import tensorflow_decision_forests as tfdf\n",
    "import pandas as pd\n",
    "import seaborn as sns"
   ]
  },
  {
   "cell_type": "code",
   "execution_count": 72,
   "metadata": {},
   "outputs": [],
   "source": [
    "crops = ['apple',\n",
    " 'banana',\n",
    " 'blackgram',\n",
    " 'chickpea',\n",
    " 'coconut',\n",
    " 'coffee',\n",
    " 'cotton',\n",
    " 'grapes',\n",
    " 'jute',\n",
    " 'kidneybeans',\n",
    " 'lentil',\n",
    " 'maize',\n",
    " 'mango',\n",
    " 'mothbeans',\n",
    " 'mungbean',\n",
    " 'muskmelon',\n",
    " 'orange',\n",
    " 'papaya',\n",
    " 'pigeonpeas',\n",
    " 'pomegranate',\n",
    " 'rice',\n",
    " 'watermelon']"
   ]
  },
  {
   "cell_type": "code",
   "execution_count": 73,
   "metadata": {},
   "outputs": [
    {
     "data": {
      "text/plain": [
       "<bound method NDFrame.head of         N   P   K  temperature   humidity        ph    rainfall   label\n",
       "0      90  42  43    20.879744  82.002744  6.502985  202.935536    rice\n",
       "1      85  58  41    21.770462  80.319644  7.038096  226.655537    rice\n",
       "2      60  55  44    23.004459  82.320763  7.840207  263.964248    rice\n",
       "3      74  35  40    26.491096  80.158363  6.980401  242.864034    rice\n",
       "4      78  42  42    20.130175  81.604873  7.628473  262.717340    rice\n",
       "...   ...  ..  ..          ...        ...       ...         ...     ...\n",
       "2195  107  34  32    26.774637  66.413269  6.780064  177.774507  coffee\n",
       "2196   99  15  27    27.417112  56.636362  6.086922  127.924610  coffee\n",
       "2197  118  33  30    24.131797  67.225123  6.362608  173.322839  coffee\n",
       "2198  117  32  34    26.272418  52.127394  6.758793  127.175293  coffee\n",
       "2199  104  18  30    23.603016  60.396475  6.779833  140.937041  coffee\n",
       "\n",
       "[2200 rows x 8 columns]>"
      ]
     },
     "execution_count": 73,
     "metadata": {},
     "output_type": "execute_result"
    }
   ],
   "source": [
    "data = pd.read_csv(\"crop-prediction.csv\")\n",
    "data.head"
   ]
  },
  {
   "cell_type": "code",
   "execution_count": 74,
   "metadata": {},
   "outputs": [],
   "source": [
    "from sklearn.model_selection import train_test_split\n",
    "train_data, test_data = train_test_split(data, test_size = 0.2)"
   ]
  },
  {
   "cell_type": "code",
   "execution_count": 75,
   "metadata": {},
   "outputs": [],
   "source": [
    "# input_columns = ['N', 'P', 'K', 'temperature', 'humidity', 'ph', 'rainfall']\n",
    "\n",
    "# train_ds = tfdf.keras.pd_dataframe_to_tf_dataset(train_data.drop('label', axis = 'columns'))\n",
    "train_ds = tfdf.keras.pd_dataframe_to_tf_dataset(train_data, label='label')\n"
   ]
  },
  {
   "cell_type": "code",
   "execution_count": 76,
   "metadata": {},
   "outputs": [
    {
     "name": "stdout",
     "output_type": "stream",
     "text": [
      "Use /tmp/tmpka_rzmk9 as temporary training directory\n",
      "Reading training dataset...\n",
      "Training dataset read in 0:00:00.158619. Found 1760 examples.\n",
      "Training model...\n"
     ]
    },
    {
     "name": "stderr",
     "output_type": "stream",
     "text": [
      "2023-04-11 10:38:49.168298: I tensorflow/core/common_runtime/executor.cc:1197] [/device:CPU:0] (DEBUG INFO) Executor start aborting (this does not indicate an error and you can ignore this message): INVALID_ARGUMENT: You must feed a value for placeholder tensor 'Placeholder/_7' with dtype int64 and shape [1760]\n",
      "\t [[{{node Placeholder/_7}}]]\n"
     ]
    },
    {
     "name": "stdout",
     "output_type": "stream",
     "text": [
      "Model trained in 0:00:00.235716\n",
      "Compiling model...\n",
      "Model compiled.\n"
     ]
    },
    {
     "name": "stderr",
     "output_type": "stream",
     "text": [
      "[INFO 23-04-11 10:38:49.5193 IST kernel.cc:1242] Loading model from path /tmp/tmpka_rzmk9/model/ with prefix 33e2e0a023504527\n",
      "[INFO 23-04-11 10:38:49.5539 IST decision_forest.cc:660] Model loaded with 300 root(s), 24836 node(s), and 7 input feature(s).\n",
      "[INFO 23-04-11 10:38:49.5539 IST abstract_model.cc:1311] Engine \"RandomForestGeneric\" built\n",
      "[INFO 23-04-11 10:38:49.5539 IST kernel.cc:1074] Use fast generic engine\n",
      "2023-04-11 10:38:49.577126: I tensorflow/core/common_runtime/executor.cc:1197] [/device:CPU:0] (DEBUG INFO) Executor start aborting (this does not indicate an error and you can ignore this message): INVALID_ARGUMENT: You must feed a value for placeholder tensor 'Placeholder/_5' with dtype double and shape [1760]\n",
      "\t [[{{node Placeholder/_5}}]]\n"
     ]
    },
    {
     "data": {
      "text/plain": [
       "<keras.callbacks.History at 0x7f7a2def1120>"
      ]
     },
     "execution_count": 76,
     "metadata": {},
     "output_type": "execute_result"
    }
   ],
   "source": [
    "model = tfdf.keras.RandomForestModel()\n",
    "\n",
    "model.fit(x = train_ds)"
   ]
  },
  {
   "cell_type": "code",
   "execution_count": 77,
   "metadata": {},
   "outputs": [],
   "source": [
    "#Only a single epoch is required for a Decision Forest, extras lead to slower training\n",
    "model.compile(metrics = ['accuracy'])\n"
   ]
  },
  {
   "cell_type": "code",
   "execution_count": 78,
   "metadata": {},
   "outputs": [
    {
     "name": "stdout",
     "output_type": "stream",
     "text": [
      "1/1 [==============================] - 0s 115ms/step - loss: 0.0000e+00 - accuracy: 0.9932\n"
     ]
    },
    {
     "name": "stderr",
     "output_type": "stream",
     "text": [
      "2023-04-11 10:38:49.802522: I tensorflow/core/common_runtime/executor.cc:1197] [/device:CPU:0] (DEBUG INFO) Executor start aborting (this does not indicate an error and you can ignore this message): INVALID_ARGUMENT: You must feed a value for placeholder tensor 'Placeholder/_5' with dtype double and shape [440]\n",
      "\t [[{{node Placeholder/_5}}]]\n"
     ]
    },
    {
     "data": {
      "text/plain": [
       "[0.0, 0.9931818246841431]"
      ]
     },
     "execution_count": 78,
     "metadata": {},
     "output_type": "execute_result"
    }
   ],
   "source": [
    "test_ds = tfdf.keras.pd_dataframe_to_tf_dataset(test_data, label='label')\n",
    "\n",
    "model.evaluate(test_ds)"
   ]
  },
  {
   "cell_type": "code",
   "execution_count": 79,
   "metadata": {},
   "outputs": [
    {
     "data": {
      "text/plain": [
       "Evaluation(num_examples=1760, accuracy=0.990909090909091, loss=0.04427047546063973, rmse=None, ndcg=None, aucs=None, auuc=None, qini=None)"
      ]
     },
     "execution_count": 79,
     "metadata": {},
     "output_type": "execute_result"
    }
   ],
   "source": [
    "model.make_inspector().evaluation()"
   ]
  },
  {
   "cell_type": "code",
   "execution_count": 80,
   "metadata": {},
   "outputs": [
    {
     "data": {
      "image/png": "[encoded data removed]",
      "text/plain": [
       "<Figure size 864x288 with 2 Axes>"
      ]
     },
     "metadata": {
      "needs_background": "light"
     },
     "output_type": "display_data"
    }
   ],
   "source": [
    "import matplotlib.pyplot as plt\n",
    "\n",
    "logs = model.make_inspector().training_logs()\n",
    "\n",
    "plt.figure(figsize=(12, 4))\n",
    "\n",
    "plt.subplot(1, 2, 1)\n",
    "plt.plot([log.num_trees for log in logs], [log.evaluation.accuracy for log in logs])\n",
    "plt.xlabel(\"Number of trees\")\n",
    "plt.ylabel(\"Accuracy (out-of-bag)\")\n",
    "\n",
    "plt.subplot(1, 2, 2)\n",
    "plt.plot([log.num_trees for log in logs], [log.evaluation.loss for log in logs])\n",
    "plt.xlabel(\"Number of trees\")\n",
    "plt.ylabel(\"Logloss (out-of-bag)\")\n",
    "\n",
    "plt.show()"
   ]
  },
  {
   "cell_type": "code",
   "execution_count": 81,
   "metadata": {},
   "outputs": [
    {
     "name": "stdout",
     "output_type": "stream",
     "text": [
      "1/1 [==============================] - 0s 49ms/step\n"
     ]
    },
    {
     "data": {
      "text/plain": [
       "numpy.ndarray"
      ]
     },
     "execution_count": 81,
     "metadata": {},
     "output_type": "execute_result"
    }
   ],
   "source": [
    "predictions = model.predict(test_ds)\n",
    "type(predictions)"
   ]
  },
  {
   "cell_type": "code",
   "execution_count": 82,
   "metadata": {},
   "outputs": [],
   "source": [
    "# test_data = tfdf.keras.pd_dataframe_to_tf_dataset(test_data)\n"
   ]
  },
  {
   "cell_type": "code",
   "execution_count": 83,
   "metadata": {},
   "outputs": [
    {
     "data": {
      "text/plain": [
       "<tf.Tensor: shape=(440,), dtype=int64, numpy=\n",
       "array([ 7, 11, 10,  0,  8, 11, 13, 12, 16, 15, 13, 12,  9,  6, 20,  6,  3,\n",
       "       10, 20, 19,  5,  7,  9, 15,  8,  6,  7, 14,  9, 17, 21, 14,  9, 18,\n",
       "       10,  1,  6,  4,  5,  6,  8, 20, 10,  8, 10, 18,  8, 11, 18, 10,  5,\n",
       "       19, 16, 14, 18,  9, 14, 12, 10,  1, 16, 21, 14, 11,  1, 14,  0,  5,\n",
       "        2, 10, 19,  1, 15,  9, 18, 16, 18, 10,  3, 10, 17, 10,  7, 11, 10,\n",
       "        6, 20,  9,  7, 20,  3,  9,  2,  4,  1,  8,  9, 12,  4, 18,  6,  2,\n",
       "        7, 15,  8,  6,  3, 11, 17,  3,  2, 21, 20,  9, 12,  0, 11,  6, 14,\n",
       "       17,  7, 14,  0,  7, 10, 16, 17, 18, 14,  0, 20,  2, 10,  0,  0,  1,\n",
       "       21, 11,  4, 20, 14,  6,  3,  6, 19, 19, 17, 21, 10, 18, 13,  4, 20,\n",
       "       10,  7, 16,  9, 14, 13,  2,  7,  3,  2, 13,  1, 10, 16, 12,  4, 21,\n",
       "        2, 10, 20, 20, 15, 10,  4,  3, 20,  4, 15, 21, 21,  2, 12,  6, 15,\n",
       "        7, 16,  2, 19, 12, 15,  0,  6, 16, 13, 10, 13, 12,  2, 17, 21, 17,\n",
       "       13, 15, 14, 16, 18, 13, 18, 13, 18,  3, 13, 19,  4, 17, 11,  3,  1,\n",
       "        3,  8,  3, 19, 19, 16, 17, 11,  3, 19,  5, 16,  9,  3,  8,  0,  3,\n",
       "       13, 21,  5,  9, 19, 13, 19,  5,  1,  6, 19,  5,  7, 19,  8, 16,  8,\n",
       "        3, 20, 12,  5, 14,  0, 10, 19, 14, 15, 18,  8,  0, 20, 10,  2,  4,\n",
       "        3, 20,  5,  2, 16,  6, 17, 11, 12, 19, 16, 15,  8,  8,  3, 14,  2,\n",
       "        6,  1,  6,  2, 10,  1, 12, 19,  6, 21, 18, 17,  2,  2, 20,  5, 17,\n",
       "        2, 20, 19,  0,  3, 18, 18, 10, 14, 11, 17, 19, 18, 19, 11,  8,  6,\n",
       "       12, 14,  6,  9, 20, 18, 16,  2,  0,  3,  1, 16, 17, 17,  3, 19,  1,\n",
       "       20, 10, 18, 11, 15, 15, 20, 17,  5,  6,  4, 15, 14,  9,  7, 13, 20,\n",
       "        5, 16,  1, 14, 20,  0,  3,  1, 20,  0, 17, 13, 17, 12, 16, 19, 18,\n",
       "        5, 21, 13, 14, 17,  9, 14,  4,  8, 13, 10, 13,  2,  6,  2, 20,  3,\n",
       "        7, 15, 12, 15,  4, 16, 16,  5,  1, 17,  3, 14, 12, 14, 13, 13, 19,\n",
       "       16, 11, 13, 17,  4, 13,  1, 13, 16, 15,  5,  5, 13,  9,  1,  1, 21,\n",
       "        0, 13, 17,  7, 12,  6,  0, 18,  2, 20, 17,  1, 15, 11, 20])>"
      ]
     },
     "execution_count": 83,
     "metadata": {},
     "output_type": "execute_result"
    }
   ],
   "source": [
    "from tensorflow import concat, argmax\n",
    "true_anwer = concat([y for x,y in test_ds], axis=0)\n",
    "true_anwer"
   ]
  },
  {
   "cell_type": "code",
   "execution_count": 84,
   "metadata": {},
   "outputs": [
    {
     "data": {
      "text/plain": [
       "<tf.Tensor: shape=(440,), dtype=int64, numpy=\n",
       "array([ 7, 11, 10,  0,  8, 11, 13, 12, 16, 15, 13, 12,  9,  6, 20,  6,  3,\n",
       "       10, 20, 19,  5,  7,  9, 15,  8,  6,  7, 14,  9, 17, 21, 14,  9, 18,\n",
       "       10,  1,  6,  4,  5,  6,  8, 20, 10,  8, 10, 18,  8, 11, 18, 10,  5,\n",
       "       19, 16, 14, 18,  9, 14, 12, 10,  1, 16, 21, 14, 11,  1, 14,  0,  5,\n",
       "        2, 10, 19,  1, 15,  9, 18, 16, 18, 10,  3, 10, 17, 10,  7, 11, 10,\n",
       "        6, 20,  9,  7, 20,  3,  9,  2,  4,  1,  8,  9, 12,  4, 18,  6,  2,\n",
       "        7, 15,  8,  6,  3, 11, 17,  3,  2, 21, 20,  9, 12,  0, 11,  6, 14,\n",
       "       17,  7, 14,  0,  7, 10, 16, 17, 18, 14,  0, 20,  2, 10,  0,  0,  1,\n",
       "       21, 11,  4, 20, 14,  6,  3,  6, 19, 19, 17, 21, 10, 18, 13,  4, 20,\n",
       "       10,  7, 16,  9, 14, 13,  2,  7,  3,  2, 13,  1, 10, 16, 12,  4, 21,\n",
       "        2, 10,  8, 20, 15, 10,  4,  3, 20,  4, 15, 21, 21,  2, 12,  6, 15,\n",
       "        7, 16,  2, 19, 12, 15,  0,  6, 16, 13, 10, 13, 12,  2, 17, 21, 17,\n",
       "       13, 15, 14, 16, 18, 13, 18, 13, 18,  3, 13, 19,  4, 17, 11,  3,  1,\n",
       "        3,  8,  3, 19, 19, 16, 17, 11,  3, 19,  5, 16,  9,  3,  8,  0,  3,\n",
       "       13, 21,  5,  9, 19, 13, 19,  5,  1,  6, 19,  5,  7, 19,  8, 16,  8,\n",
       "        3, 20, 12,  5, 14,  0, 10, 19, 14, 15, 18,  8,  0, 20, 10,  2,  4,\n",
       "        3, 20,  5,  2, 16,  6, 17, 11, 12, 19, 16, 15,  8,  8,  3, 14,  2,\n",
       "        6,  1,  6,  2, 10,  1, 12, 19,  6, 21, 18, 17,  2,  2, 20,  5, 17,\n",
       "        2, 20, 19,  0,  3, 18, 18, 10, 14, 11, 17, 19, 18, 19, 11,  8,  6,\n",
       "       12, 14,  6,  9, 20, 18, 16,  2,  0,  3,  1, 16, 17, 17,  3, 19,  1,\n",
       "       20, 10, 18, 11, 15, 15,  8, 17,  5,  6,  4, 15, 14,  9,  7, 13, 20,\n",
       "        5, 16,  1, 14, 20,  0,  3,  1, 20,  0, 17, 13, 17, 12, 16, 19, 18,\n",
       "        5, 21, 13, 14, 17,  9, 14,  4,  8, 13, 10, 13,  2,  6,  2, 20,  3,\n",
       "        7, 15, 12, 15,  4, 16, 16,  5,  1, 17,  3, 14, 12, 14, 13, 13, 19,\n",
       "       16, 11, 13, 17,  4, 13,  1, 13, 16, 15,  5,  5, 10,  9,  1,  1, 21,\n",
       "        0, 13, 17,  7, 12,  6,  0, 18,  2, 20, 17,  1, 15, 11, 20])>"
      ]
     },
     "execution_count": 84,
     "metadata": {},
     "output_type": "execute_result"
    }
   ],
   "source": [
    "predicted_answers = argmax(predictions, axis=1)\n",
    "predicted_answers"
   ]
  },
  {
   "cell_type": "code",
   "execution_count": 85,
   "metadata": {},
   "outputs": [
    {
     "data": {
      "text/plain": [
       "<Axes: >"
      ]
     },
     "execution_count": 85,
     "metadata": {},
     "output_type": "execute_result"
    },
    {
     "data": {
      "image/png": "[encoded data removed]",
      "text/plain": [
       "<Figure size 432x288 with 2 Axes>"
      ]
     },
     "metadata": {
      "needs_background": "light"
     },
     "output_type": "display_data"
    }
   ],
   "source": [
    "\n",
    "sns.heatmap(confusion_matrix(true_anwer, predicted_answers), xticklabels = crops, yticklabels = crops,)"
   ]
  },
  {
   "cell_type": "code",
   "execution_count": 86,
   "metadata": {},
   "outputs": [
    {
     "name": "stdout",
     "output_type": "stream",
     "text": [
      "              precision    recall  f1-score   support\n",
      "\n",
      "           0       1.00      1.00      1.00        17\n",
      "           1       1.00      1.00      1.00        20\n",
      "           2       1.00      1.00      1.00        22\n",
      "           3       1.00      1.00      1.00        24\n",
      "           4       1.00      1.00      1.00        14\n",
      "           5       1.00      1.00      1.00        17\n",
      "           6       1.00      1.00      1.00        23\n",
      "           7       1.00      1.00      1.00        15\n",
      "           8       0.89      1.00      0.94        16\n",
      "           9       1.00      1.00      1.00        17\n",
      "          10       0.96      1.00      0.98        26\n",
      "          11       1.00      1.00      1.00        16\n",
      "          12       1.00      1.00      1.00        17\n",
      "          13       1.00      0.96      0.98        25\n",
      "          14       1.00      1.00      1.00        23\n",
      "          15       1.00      1.00      1.00        18\n",
      "          16       1.00      1.00      1.00        23\n",
      "          17       1.00      1.00      1.00        24\n",
      "          18       1.00      1.00      1.00        21\n",
      "          19       1.00      1.00      1.00        23\n",
      "          20       1.00      0.92      0.96        26\n",
      "          21       1.00      1.00      1.00        13\n",
      "\n",
      "    accuracy                           0.99       440\n",
      "   macro avg       0.99      0.99      0.99       440\n",
      "weighted avg       0.99      0.99      0.99       440\n",
      "\n"
     ]
    }
   ],
   "source": [
    "from sklearn.metrics import classification_report\n",
    "print(classification_report(true_anwer, predicted_answers))"
   ]
  },
  {
   "attachments": {},
   "cell_type": "markdown",
   "metadata": {},
   "source": [
    "### References"
   ]
  },
  {
   "attachments": {},
   "cell_type": "markdown",
   "metadata": {},
   "source": [
    "1. [tensorflow.org](https://www.tensorflow.org/decision_forests)\n",
    "1. stackoverflow.com\n",
    "1. scikit-learn.org"
   ]
  },
  {
   "cell_type": "code",
   "execution_count": 87,
   "metadata": {},
   "outputs": [
    {
     "data": {
      "text/plain": [
       "<tensorflow_decision_forests.component.tuner.tuner.SearchSpace at 0x7f7a4444b790>"
      ]
     },
     "execution_count": 87,
     "metadata": {},
     "output_type": "execute_result"
    }
   ],
   "source": [
    "tuner = tfdf.tuner.RandomSearch(num_trials=75)\n",
    "tuner.choice(\"min_examples\", [2, 5, 7, 10])\n",
    "tuner.choice(\"categorical_algorithm\", [\"CART\", \"RANDOM\"])\n",
    "\n",
    "# Some hyper-parameters are only valid for specific values of other\n",
    "# hyper-parameters. For example, the \"max_depth\" parameter is mostly useful when\n",
    "# \"growing_strategy=LOCAL\" while \"max_num_nodes\" is better suited when\n",
    "# \"growing_strategy=BEST_FIRST_GLOBAL\".\n",
    "\n",
    "local_search_space = tuner.choice(\"growing_strategy\", [\"LOCAL\"])\n",
    "local_search_space.choice(\"max_depth\", [3, 4, 5, 6, 8])\n",
    "\n",
    "# merge=True indicates that the parameter (here \"growing_strategy\") is already\n",
    "# defined, and that new values are added to it.\n",
    "global_search_space = tuner.choice(\"growing_strategy\", [\"BEST_FIRST_GLOBAL\"], merge=True)\n",
    "global_search_space.choice(\"max_num_nodes\", [16, 32, 64, 128, 256])\n",
    "\n",
    "tuner.choice(\"use_hessian_gain\", [True, False])\n",
    "tuner.choice(\"shrinkage\", [0.02, 0.05, 0.10, 0.15])\n",
    "tuner.choice(\"num_candidate_attributes_ratio\", [0.2, 0.5, 0.9, 1.0])\n",
    "\n",
    "\n",
    "tuner.choice(\"split_axis\", [\"AXIS_ALIGNED\"])\n",
    "oblique_space = tuner.choice(\"split_axis\", [\"SPARSE_OBLIQUE\"], merge=True)\n",
    "oblique_space.choice(\"sparse_oblique_normalization\",\n",
    "                     [\"NONE\", \"STANDARD_DEVIATION\", \"MIN_MAX\"])\n",
    "oblique_space.choice(\"sparse_oblique_weights\", [\"BINARY\", \"CONTINUOUS\"])\n",
    "oblique_space.choice(\"sparse_oblique_num_projections_exponent\", [1.0, 1.5])"
   ]
  },
  {
   "cell_type": "code",
   "execution_count": 88,
   "metadata": {},
   "outputs": [
    {
     "name": "stdout",
     "output_type": "stream",
     "text": [
      "Use /tmp/tmp3xxybkj7 as temporary training directory\n",
      "Reading training dataset...\n",
      "Training dataset read in 0:00:00.159340. Found 1760 examples.\n",
      "Training model...\n"
     ]
    },
    {
     "name": "stderr",
     "output_type": "stream",
     "text": [
      "[WARNING 23-04-11 10:38:51.0526 IST gradient_boosted_trees.cc:1797] \"goss_alpha\" set but \"sampling_method\" not equal to \"GOSS\".\n",
      "[WARNING 23-04-11 10:38:51.0526 IST gradient_boosted_trees.cc:1808] \"goss_beta\" set but \"sampling_method\" not equal to \"GOSS\".\n",
      "[WARNING 23-04-11 10:38:51.0526 IST gradient_boosted_trees.cc:1822] \"selective_gradient_boosting_ratio\" set but \"sampling_method\" not equal to \"SELGB\".\n"
     ]
    },
    {
     "name": "stdout",
     "output_type": "stream",
     "text": [
      "Model trained in 0:01:38.879254\n",
      "Compiling model...\n"
     ]
    },
    {
     "name": "stderr",
     "output_type": "stream",
     "text": [
      "[INFO 23-04-11 10:40:29.9050 IST kernel.cc:1242] Loading model from path /tmp/tmp3xxybkj7/model/ with prefix 04afc401f57f4ae7\n",
      "[INFO 23-04-11 10:40:30.0757 IST decision_forest.cc:660] Model loaded with 1628 root(s), 131342 node(s), and 7 input feature(s).\n",
      "[INFO 23-04-11 10:40:30.0758 IST abstract_model.cc:1311] Engine \"GradientBoostedTreesGeneric\" built\n",
      "[INFO 23-04-11 10:40:30.0758 IST kernel.cc:1074] Use fast generic engine\n",
      "2023-04-11 10:40:30.165421: I tensorflow/core/common_runtime/executor.cc:1197] [/device:CPU:0] (DEBUG INFO) Executor start aborting (this does not indicate an error and you can ignore this message): INVALID_ARGUMENT: You must feed a value for placeholder tensor 'Placeholder/_5' with dtype double and shape [1760]\n",
      "\t [[{{node Placeholder/_5}}]]\n"
     ]
    },
    {
     "name": "stdout",
     "output_type": "stream",
     "text": [
      "Model compiled.\n"
     ]
    },
    {
     "data": {
      "text/plain": [
       "<keras.callbacks.History at 0x7f7a2da3b490>"
      ]
     },
     "execution_count": 88,
     "metadata": {},
     "output_type": "execute_result"
    }
   ],
   "source": [
    "\n",
    "# train_ds_stand = tfdf.keras.pd_dataframe_to_tf_dataset(train_data_stand, label='label')\n",
    "model1 = tfdf.keras.GradientBoostedTreesModel(tuner = tuner)\n",
    "\n",
    "model1.fit(x = train_ds)\n"
   ]
  },
  {
   "cell_type": "code",
   "execution_count": 89,
   "metadata": {},
   "outputs": [],
   "source": [
    "\n",
    "model1.compile(metrics = ['accuracy'])\n"
   ]
  },
  {
   "cell_type": "code",
   "execution_count": 90,
   "metadata": {},
   "outputs": [
    {
     "name": "stdout",
     "output_type": "stream",
     "text": [
      "1/1 [==============================] - 0s 180ms/step - loss: 0.0000e+00 - accuracy: 0.9955\n"
     ]
    },
    {
     "name": "stderr",
     "output_type": "stream",
     "text": [
      "2023-04-11 10:40:30.576524: I tensorflow/core/common_runtime/executor.cc:1197] [/device:CPU:0] (DEBUG INFO) Executor start aborting (this does not indicate an error and you can ignore this message): INVALID_ARGUMENT: You must feed a value for placeholder tensor 'Placeholder/_0' with dtype int64 and shape [440]\n",
      "\t [[{{node Placeholder/_0}}]]\n"
     ]
    },
    {
     "data": {
      "text/plain": [
       "[0.0, 0.9954545497894287]"
      ]
     },
     "execution_count": 90,
     "metadata": {},
     "output_type": "execute_result"
    }
   ],
   "source": [
    "\n",
    "test_ds = tfdf.keras.pd_dataframe_to_tf_dataset(test_data, label='label')\n",
    "\n",
    "model1.evaluate(test_ds)\n"
   ]
  },
  {
   "cell_type": "code",
   "execution_count": 91,
   "metadata": {},
   "outputs": [
    {
     "name": "stdout",
     "output_type": "stream",
     "text": [
      "1/1 [==============================] - 0s 114ms/step\n"
     ]
    },
    {
     "data": {
      "text/plain": [
       "numpy.ndarray"
      ]
     },
     "execution_count": 91,
     "metadata": {},
     "output_type": "execute_result"
    }
   ],
   "source": [
    "\n",
    "predictions = model1.predict(test_ds)\n",
    "type(predictions)\n",
    "\n",
    "\n"
   ]
  },
  {
   "cell_type": "code",
   "execution_count": 92,
   "metadata": {},
   "outputs": [
    {
     "data": {
      "text/plain": [
       "<tf.Tensor: shape=(440,), dtype=int64, numpy=\n",
       "array([ 7, 11, 10,  0,  8, 11, 13, 12, 16, 15, 13, 12,  9,  6, 20,  6,  3,\n",
       "       10, 20, 19,  5,  7,  9, 15,  8,  6,  7, 14,  9, 17, 21, 14,  9, 18,\n",
       "       10,  1,  6,  4,  5,  6,  8, 20, 10,  8, 10, 18,  8, 11, 18, 10,  5,\n",
       "       19, 16, 14, 18,  9, 14, 12, 10,  1, 16, 21, 14, 11,  1, 14,  0,  5,\n",
       "        2, 10, 19,  1, 15,  9, 18, 16, 18, 10,  3, 10, 17, 10,  7, 11, 10,\n",
       "        6, 20,  9,  7, 20,  3,  9,  2,  4,  1,  8,  9, 12,  4, 18,  6,  2,\n",
       "        7, 15,  8,  6,  3, 11, 17,  3,  2, 21, 20,  9, 12,  0, 11,  6, 14,\n",
       "       17,  7, 14,  0,  7, 10, 16, 17, 18, 14,  0, 20,  2, 10,  0,  0,  1,\n",
       "       21, 11,  4, 20, 14,  6,  3,  6, 19, 19, 17, 21, 10, 18, 13,  4, 20,\n",
       "       10,  7, 16,  9, 14, 13,  2,  7,  3,  2, 13,  1, 10, 16, 12,  4, 21,\n",
       "        2, 10, 20, 20, 15, 10,  4,  3, 20,  4, 15, 21, 21,  2, 12,  6, 15,\n",
       "        7, 16,  2, 19, 12, 15,  0,  6, 16, 13, 10, 13, 12,  2, 17, 21, 17,\n",
       "       13, 15, 14, 16, 18, 13, 18, 13, 18,  3, 13, 19,  4, 17, 11,  3,  1,\n",
       "        3,  8,  3, 19, 19, 16, 17, 11,  3, 19,  5, 16,  9,  3,  8,  0,  3,\n",
       "       13, 21,  5,  9, 19, 13, 19,  5,  1,  6, 19,  5,  7, 19,  8, 16,  8,\n",
       "        3, 20, 12,  5, 14,  0, 10, 19, 14, 15, 18,  8,  0, 20, 10,  2,  4,\n",
       "        3, 20,  5,  2, 16,  6, 17, 11, 12, 19, 16, 15,  8,  8,  3, 14,  2,\n",
       "        6,  1,  6,  2, 10,  1, 12, 19,  6, 21, 18, 17,  2,  2, 20,  5, 17,\n",
       "        2, 20, 19,  0,  3, 18, 18, 10, 14, 11, 17, 19, 18, 19, 11,  8,  6,\n",
       "       12, 14,  6,  9, 20, 18, 16,  2,  0,  3,  1, 16, 17, 17,  3, 19,  1,\n",
       "       20, 10, 18, 11, 15, 15, 20, 17,  5,  6,  4, 15, 14,  9,  7, 13, 20,\n",
       "        5, 16,  1, 14, 20,  0,  3,  1, 20,  0, 17, 13, 17, 12, 16, 19, 18,\n",
       "        5, 21, 13, 14, 17,  9, 14,  4,  8, 13, 10, 13,  2,  6,  2, 20,  3,\n",
       "        7, 15, 12, 15,  4, 16, 16,  5,  1, 17,  3, 14, 12, 14, 13, 13, 19,\n",
       "       16, 11, 13, 17,  4, 13,  1, 13, 16, 15,  5,  5, 13,  9,  1,  1, 21,\n",
       "        0, 13, 17,  7, 12,  6,  0, 18,  2, 20, 17,  1, 15, 11, 20])>"
      ]
     },
     "execution_count": 92,
     "metadata": {},
     "output_type": "execute_result"
    }
   ],
   "source": [
    "\n",
    "true_anwer = concat([y for x,y in test_ds], axis=0)\n",
    "true_anwer\n",
    "\n"
   ]
  },
  {
   "cell_type": "code",
   "execution_count": 93,
   "metadata": {},
   "outputs": [
    {
     "data": {
      "text/plain": [
       "<tf.Tensor: shape=(440,), dtype=int64, numpy=\n",
       "array([ 7, 11, 10,  0,  8, 11, 13, 12, 16, 15, 13, 12,  9,  6, 20,  6,  3,\n",
       "       10, 20, 19,  5,  7,  9, 15,  8,  6,  7, 14,  9, 17, 21, 14,  9, 18,\n",
       "       10,  1,  6,  4,  5,  6,  8, 20, 10,  8, 10, 18,  8, 11, 18, 10,  5,\n",
       "       19, 16, 14, 18,  9, 14, 12, 10,  1, 16, 21, 14, 11,  1, 14,  0,  5,\n",
       "        2, 10, 19,  1, 15,  9, 18, 16, 18, 10,  3, 10, 17, 10,  7, 11, 10,\n",
       "        6, 20,  9,  7, 20,  3,  9,  2,  4,  1,  8,  9, 12,  4, 18,  6,  2,\n",
       "        7, 15,  8,  6,  3, 11, 17,  3,  2, 21, 20,  9, 12,  0, 11,  6, 14,\n",
       "       17,  7, 14,  0,  7, 10, 16, 17, 18, 14,  0, 20,  2, 10,  0,  0,  1,\n",
       "       21, 11,  4, 20, 14,  6,  3,  6, 19, 19, 17, 21, 10, 18, 13,  4, 20,\n",
       "       10,  7, 16,  9, 14, 13,  2,  7,  3,  2, 13,  1, 10, 16, 12,  4, 21,\n",
       "        2, 10,  8, 20, 15, 10,  4,  3, 20,  4, 15, 21, 21,  2, 12,  6, 15,\n",
       "        7, 16,  2, 19, 12, 15,  0,  6, 16, 13, 10, 13, 12,  2, 17, 21, 17,\n",
       "       13, 15, 14, 16, 18, 13, 18, 13, 18,  3, 13, 19,  4, 17, 11,  3,  1,\n",
       "        3,  8,  3, 19, 19, 16, 17, 11,  3, 19,  5, 16,  9,  3,  8,  0,  3,\n",
       "       13, 21,  5,  9, 19, 13, 19,  5,  1,  6, 19,  5,  7, 19,  8, 16,  8,\n",
       "        3, 20, 12,  5, 14,  0, 10, 19, 14, 15, 18,  8,  0, 20, 10,  2,  4,\n",
       "        3, 20,  5,  2, 16,  6, 17, 11, 12, 19, 16, 15,  8,  8,  3, 14,  2,\n",
       "        6,  1,  6,  2, 10,  1, 12, 19,  6, 21, 18, 17,  2,  2, 20,  5, 17,\n",
       "        2, 20, 19,  0,  3, 18, 18, 10, 14, 11, 17, 19, 18, 19, 11,  8,  6,\n",
       "       12, 14,  6,  9, 20, 18, 16,  2,  0,  3,  1, 16, 17, 17,  3, 19,  1,\n",
       "       20, 10, 18, 11, 15, 15, 20, 17,  5,  6,  4, 15, 14,  9,  7, 13, 20,\n",
       "        5, 16,  1, 14, 20,  0,  3,  1, 20,  0, 17, 13, 17, 12, 16, 19, 18,\n",
       "        5, 21, 13, 14, 17,  9, 14,  4,  8, 13, 10, 13,  2,  6,  2, 20,  3,\n",
       "        7, 15, 12, 15,  4, 16, 16,  5,  1, 17,  3, 14, 12, 14, 13, 13, 19,\n",
       "       16, 11, 13, 17,  4, 13,  1, 13, 16, 15,  5,  5, 10,  9,  1,  1, 21,\n",
       "        0, 13, 17,  7, 12,  6,  0, 18,  2, 20, 17,  1, 15, 11, 20])>"
      ]
     },
     "execution_count": 93,
     "metadata": {},
     "output_type": "execute_result"
    }
   ],
   "source": [
    "\n",
    "predicted_answers = argmax(predictions, axis=1)\n",
    "predicted_answers\n"
   ]
  },
  {
   "cell_type": "code",
   "execution_count": 94,
   "metadata": {},
   "outputs": [
    {
     "data": {
      "text/plain": [
       "<Axes: >"
      ]
     },
     "execution_count": 94,
     "metadata": {},
     "output_type": "execute_result"
    },
    {
     "data": {
      "image/png": "[encoded data removed]",
      "text/plain": [
       "<Figure size 432x288 with 2 Axes>"
      ]
     },
     "metadata": {
      "needs_background": "light"
     },
     "output_type": "display_data"
    }
   ],
   "source": [
    "\n",
    "sns.heatmap(confusion_matrix(true_anwer, predicted_answers), xticklabels = crops, yticklabels = crops,)\n"
   ]
  },
  {
   "cell_type": "code",
   "execution_count": 95,
   "metadata": {},
   "outputs": [
    {
     "name": "stdout",
     "output_type": "stream",
     "text": [
      "              precision    recall  f1-score   support\n",
      "\n",
      "           0       1.00      1.00      1.00        17\n",
      "           1       1.00      1.00      1.00        20\n",
      "           2       1.00      1.00      1.00        22\n",
      "           3       1.00      1.00      1.00        24\n",
      "           4       1.00      1.00      1.00        14\n",
      "           5       1.00      1.00      1.00        17\n",
      "           6       1.00      1.00      1.00        23\n",
      "           7       1.00      1.00      1.00        15\n",
      "           8       0.94      1.00      0.97        16\n",
      "           9       1.00      1.00      1.00        17\n",
      "          10       0.96      1.00      0.98        26\n",
      "          11       1.00      1.00      1.00        16\n",
      "          12       1.00      1.00      1.00        17\n",
      "          13       1.00      0.96      0.98        25\n",
      "          14       1.00      1.00      1.00        23\n",
      "          15       1.00      1.00      1.00        18\n",
      "          16       1.00      1.00      1.00        23\n",
      "          17       1.00      1.00      1.00        24\n",
      "          18       1.00      1.00      1.00        21\n",
      "          19       1.00      1.00      1.00        23\n",
      "          20       1.00      0.96      0.98        26\n",
      "          21       1.00      1.00      1.00        13\n",
      "\n",
      "    accuracy                           1.00       440\n",
      "   macro avg       1.00      1.00      1.00       440\n",
      "weighted avg       1.00      1.00      1.00       440\n",
      "\n"
     ]
    }
   ],
   "source": [
    "\n",
    "print(classification_report(true_anwer, predicted_answers))"
   ]
  },
  {
   "cell_type": "code",
   "execution_count": 96,
   "metadata": {},
   "outputs": [
    {
     "data": {
      "text/html": [
       "<div>\n",
       "<style scoped>\n",
       "    .dataframe tbody tr th:only-of-type {\n",
       "        vertical-align: middle;\n",
       "    }\n",
       "\n",
       "    .dataframe tbody tr th {\n",
       "        vertical-align: top;\n",
       "    }\n",
       "\n",
       "    .dataframe thead th {\n",
       "        text-align: right;\n",
       "    }\n",
       "</style>\n",
       "<table border=\"1\" class=\"dataframe\">\n",
       "  <thead>\n",
       "    <tr style=\"text-align: right;\">\n",
       "      <th></th>\n",
       "      <th>score</th>\n",
       "      <th>evaluation_time</th>\n",
       "      <th>best</th>\n",
       "      <th>min_examples</th>\n",
       "      <th>categorical_algorithm</th>\n",
       "      <th>growing_strategy</th>\n",
       "      <th>max_depth</th>\n",
       "      <th>use_hessian_gain</th>\n",
       "      <th>shrinkage</th>\n",
       "      <th>num_candidate_attributes_ratio</th>\n",
       "      <th>split_axis</th>\n",
       "      <th>sparse_oblique_normalization</th>\n",
       "      <th>sparse_oblique_weights</th>\n",
       "      <th>sparse_oblique_num_projections_exponent</th>\n",
       "      <th>max_num_nodes</th>\n",
       "    </tr>\n",
       "  </thead>\n",
       "  <tbody>\n",
       "    <tr>\n",
       "      <th>0</th>\n",
       "      <td>-0.065516</td>\n",
       "      <td>1.604654</td>\n",
       "      <td>False</td>\n",
       "      <td>7</td>\n",
       "      <td>RANDOM</td>\n",
       "      <td>LOCAL</td>\n",
       "      <td>6.0</td>\n",
       "      <td>false</td>\n",
       "      <td>0.15</td>\n",
       "      <td>1.0</td>\n",
       "      <td>AXIS_ALIGNED</td>\n",
       "      <td>NaN</td>\n",
       "      <td>NaN</td>\n",
       "      <td>NaN</td>\n",
       "      <td>NaN</td>\n",
       "    </tr>\n",
       "    <tr>\n",
       "      <th>1</th>\n",
       "      <td>-0.057529</td>\n",
       "      <td>1.808071</td>\n",
       "      <td>False</td>\n",
       "      <td>5</td>\n",
       "      <td>CART</td>\n",
       "      <td>LOCAL</td>\n",
       "      <td>6.0</td>\n",
       "      <td>false</td>\n",
       "      <td>0.15</td>\n",
       "      <td>0.9</td>\n",
       "      <td>AXIS_ALIGNED</td>\n",
       "      <td>NaN</td>\n",
       "      <td>NaN</td>\n",
       "      <td>NaN</td>\n",
       "      <td>NaN</td>\n",
       "    </tr>\n",
       "    <tr>\n",
       "      <th>2</th>\n",
       "      <td>-0.051385</td>\n",
       "      <td>3.887440</td>\n",
       "      <td>False</td>\n",
       "      <td>5</td>\n",
       "      <td>CART</td>\n",
       "      <td>LOCAL</td>\n",
       "      <td>4.0</td>\n",
       "      <td>false</td>\n",
       "      <td>0.15</td>\n",
       "      <td>1.0</td>\n",
       "      <td>SPARSE_OBLIQUE</td>\n",
       "      <td>MIN_MAX</td>\n",
       "      <td>BINARY</td>\n",
       "      <td>1.5</td>\n",
       "      <td>NaN</td>\n",
       "    </tr>\n",
       "    <tr>\n",
       "      <th>3</th>\n",
       "      <td>-0.048213</td>\n",
       "      <td>3.925060</td>\n",
       "      <td>False</td>\n",
       "      <td>5</td>\n",
       "      <td>RANDOM</td>\n",
       "      <td>LOCAL</td>\n",
       "      <td>4.0</td>\n",
       "      <td>true</td>\n",
       "      <td>0.10</td>\n",
       "      <td>0.5</td>\n",
       "      <td>SPARSE_OBLIQUE</td>\n",
       "      <td>STANDARD_DEVIATION</td>\n",
       "      <td>CONTINUOUS</td>\n",
       "      <td>1.5</td>\n",
       "      <td>NaN</td>\n",
       "    </tr>\n",
       "    <tr>\n",
       "      <th>4</th>\n",
       "      <td>-0.031570</td>\n",
       "      <td>4.506441</td>\n",
       "      <td>False</td>\n",
       "      <td>5</td>\n",
       "      <td>RANDOM</td>\n",
       "      <td>LOCAL</td>\n",
       "      <td>6.0</td>\n",
       "      <td>true</td>\n",
       "      <td>0.10</td>\n",
       "      <td>0.9</td>\n",
       "      <td>SPARSE_OBLIQUE</td>\n",
       "      <td>NONE</td>\n",
       "      <td>BINARY</td>\n",
       "      <td>1.0</td>\n",
       "      <td>NaN</td>\n",
       "    </tr>\n",
       "  </tbody>\n",
       "</table>\n",
       "</div>"
      ],
      "text/plain": [
       "      score  evaluation_time   best  min_examples categorical_algorithm   \n",
       "0 -0.065516         1.604654  False             7                RANDOM  \\\n",
       "1 -0.057529         1.808071  False             5                  CART   \n",
       "2 -0.051385         3.887440  False             5                  CART   \n",
       "3 -0.048213         3.925060  False             5                RANDOM   \n",
       "4 -0.031570         4.506441  False             5                RANDOM   \n",
       "\n",
       "  growing_strategy  max_depth use_hessian_gain  shrinkage   \n",
       "0            LOCAL        6.0            false       0.15  \\\n",
       "1            LOCAL        6.0            false       0.15   \n",
       "2            LOCAL        4.0            false       0.15   \n",
       "3            LOCAL        4.0             true       0.10   \n",
       "4            LOCAL        6.0             true       0.10   \n",
       "\n",
       "   num_candidate_attributes_ratio      split_axis   \n",
       "0                             1.0    AXIS_ALIGNED  \\\n",
       "1                             0.9    AXIS_ALIGNED   \n",
       "2                             1.0  SPARSE_OBLIQUE   \n",
       "3                             0.5  SPARSE_OBLIQUE   \n",
       "4                             0.9  SPARSE_OBLIQUE   \n",
       "\n",
       "  sparse_oblique_normalization sparse_oblique_weights   \n",
       "0                          NaN                    NaN  \\\n",
       "1                          NaN                    NaN   \n",
       "2                      MIN_MAX                 BINARY   \n",
       "3           STANDARD_DEVIATION             CONTINUOUS   \n",
       "4                         NONE                 BINARY   \n",
       "\n",
       "   sparse_oblique_num_projections_exponent  max_num_nodes  \n",
       "0                                      NaN            NaN  \n",
       "1                                      NaN            NaN  \n",
       "2                                      1.5            NaN  \n",
       "3                                      1.5            NaN  \n",
       "4                                      1.0            NaN  "
      ]
     },
     "execution_count": 96,
     "metadata": {},
     "output_type": "execute_result"
    }
   ],
   "source": [
    "tuning_logs = model1.make_inspector().tuning_logs()\n",
    "tuning_logs.head()\n"
   ]
  },
  {
   "cell_type": "code",
   "execution_count": 97,
   "metadata": {},
   "outputs": [
    {
     "data": {
      "image/png": "[encoded data removed]",
      "text/plain": [
       "<Figure size 720x360 with 1 Axes>"
      ]
     },
     "metadata": {
      "needs_background": "light"
     },
     "output_type": "display_data"
    }
   ],
   "source": [
    "plt.figure(figsize=(10, 5))\n",
    "plt.plot(tuning_logs[\"score\"], label=\"current trial\")\n",
    "plt.plot(tuning_logs[\"score\"].cummax(), label=\"best trial\")\n",
    "plt.xlabel(\"Tuning step\")\n",
    "plt.ylabel(\"Tuning score\")\n",
    "plt.legend()\n",
    "plt.show()"
   ]
  },
  {
   "cell_type": "code",
   "execution_count": 98,
   "metadata": {},
   "outputs": [
    {
     "name": "stdout",
     "output_type": "stream",
     "text": [
      "Use /tmp/tmpylbzmdg0 as temporary training directory\n",
      "Reading training dataset...\n",
      "Training dataset read in 0:00:00.149571. Found 1760 examples.\n",
      "Training model...\n"
     ]
    },
    {
     "name": "stderr",
     "output_type": "stream",
     "text": [
      "[WARNING 23-04-11 10:40:31.8483 IST gradient_boosted_trees.cc:1797] \"goss_alpha\" set but \"sampling_method\" not equal to \"GOSS\".\n",
      "[WARNING 23-04-11 10:40:31.8483 IST gradient_boosted_trees.cc:1808] \"goss_beta\" set but \"sampling_method\" not equal to \"GOSS\".\n",
      "[WARNING 23-04-11 10:40:31.8483 IST gradient_boosted_trees.cc:1822] \"selective_gradient_boosting_ratio\" set but \"sampling_method\" not equal to \"SELGB\".\n"
     ]
    },
    {
     "name": "stdout",
     "output_type": "stream",
     "text": [
      "Model trained in 0:03:22.830508\n",
      "Compiling model...\n"
     ]
    },
    {
     "name": "stderr",
     "output_type": "stream",
     "text": [
      "[INFO 23-04-11 10:43:54.7806 IST kernel.cc:1242] Loading model from path /tmp/tmpylbzmdg0/model/ with prefix 04ceb1a5c8484e52\n",
      "[INFO 23-04-11 10:43:54.8303 IST decision_forest.cc:660] Model loaded with 814 root(s), 38628 node(s), and 7 input feature(s).\n",
      "[INFO 23-04-11 10:43:54.8303 IST abstract_model.cc:1311] Engine \"GradientBoostedTreesGeneric\" built\n",
      "[INFO 23-04-11 10:43:54.8303 IST kernel.cc:1074] Use fast generic engine\n",
      "2023-04-11 10:43:54.853482: I tensorflow/core/common_runtime/executor.cc:1197] [/device:CPU:0] (DEBUG INFO) Executor start aborting (this does not indicate an error and you can ignore this message): INVALID_ARGUMENT: You must feed a value for placeholder tensor 'Placeholder/_5' with dtype double and shape [1760]\n",
      "\t [[{{node Placeholder/_5}}]]\n"
     ]
    },
    {
     "name": "stdout",
     "output_type": "stream",
     "text": [
      "Model compiled.\n"
     ]
    },
    {
     "data": {
      "text/plain": [
       "<keras.callbacks.History at 0x7f7a2d8de5f0>"
      ]
     },
     "execution_count": 98,
     "metadata": {},
     "output_type": "execute_result"
    }
   ],
   "source": [
    "tuner = tfdf.tuner.RandomSearch(num_trials=50, use_predefined_hps=True)\n",
    "\n",
    "# Define and train the model.\n",
    "tuned_model = tfdf.keras.GradientBoostedTreesModel(tuner=tuner)\n",
    "tuned_model.fit(train_ds)"
   ]
  },
  {
   "cell_type": "code",
   "execution_count": 99,
   "metadata": {},
   "outputs": [],
   "source": [
    "tuned_model.compile([\"accuracy\"])\n",
    "tuned_test_accuracy = tuned_model.evaluate(test_ds, return_dict=True, verbose=0)[\"accuracy\"]"
   ]
  },
  {
   "cell_type": "code",
   "execution_count": 100,
   "metadata": {},
   "outputs": [
    {
     "name": "stdout",
     "output_type": "stream",
     "text": [
      "1/1 [==============================] - 0s 108ms/step - loss: 0.0000e+00 - accuracy: 0.9932\n"
     ]
    },
    {
     "data": {
      "text/plain": [
       "[0.0, 0.9931818246841431]"
      ]
     },
     "execution_count": 100,
     "metadata": {},
     "output_type": "execute_result"
    }
   ],
   "source": [
    "tuned_model.evaluate(test_ds)"
   ]
  },
  {
   "cell_type": "code",
   "execution_count": 101,
   "metadata": {},
   "outputs": [
    {
     "data": {
      "text/html": [
       "<div>\n",
       "<style scoped>\n",
       "    .dataframe tbody tr th:only-of-type {\n",
       "        vertical-align: middle;\n",
       "    }\n",
       "\n",
       "    .dataframe tbody tr th {\n",
       "        vertical-align: top;\n",
       "    }\n",
       "\n",
       "    .dataframe thead th {\n",
       "        text-align: right;\n",
       "    }\n",
       "</style>\n",
       "<table border=\"1\" class=\"dataframe\">\n",
       "  <thead>\n",
       "    <tr style=\"text-align: right;\">\n",
       "      <th></th>\n",
       "      <th>score</th>\n",
       "      <th>evaluation_time</th>\n",
       "      <th>best</th>\n",
       "      <th>split_axis</th>\n",
       "      <th>sparse_oblique_projection_density_factor</th>\n",
       "      <th>sparse_oblique_normalization</th>\n",
       "      <th>sparse_oblique_weights</th>\n",
       "      <th>categorical_algorithm</th>\n",
       "      <th>growing_strategy</th>\n",
       "      <th>max_num_nodes</th>\n",
       "      <th>sampling_method</th>\n",
       "      <th>subsample</th>\n",
       "      <th>shrinkage</th>\n",
       "      <th>min_examples</th>\n",
       "      <th>use_hessian_gain</th>\n",
       "      <th>num_candidate_attributes_ratio</th>\n",
       "      <th>max_depth</th>\n",
       "    </tr>\n",
       "  </thead>\n",
       "  <tbody>\n",
       "    <tr>\n",
       "      <th>0</th>\n",
       "      <td>-0.068042</td>\n",
       "      <td>9.286486</td>\n",
       "      <td>False</td>\n",
       "      <td>SPARSE_OBLIQUE</td>\n",
       "      <td>1.0</td>\n",
       "      <td>MIN_MAX</td>\n",
       "      <td>BINARY</td>\n",
       "      <td>CART</td>\n",
       "      <td>BEST_FIRST_GLOBAL</td>\n",
       "      <td>16.0</td>\n",
       "      <td>RANDOM</td>\n",
       "      <td>0.6</td>\n",
       "      <td>0.10</td>\n",
       "      <td>10</td>\n",
       "      <td>true</td>\n",
       "      <td>0.2</td>\n",
       "      <td>NaN</td>\n",
       "    </tr>\n",
       "    <tr>\n",
       "      <th>1</th>\n",
       "      <td>-0.076268</td>\n",
       "      <td>11.505253</td>\n",
       "      <td>False</td>\n",
       "      <td>SPARSE_OBLIQUE</td>\n",
       "      <td>3.0</td>\n",
       "      <td>STANDARD_DEVIATION</td>\n",
       "      <td>CONTINUOUS</td>\n",
       "      <td>CART</td>\n",
       "      <td>LOCAL</td>\n",
       "      <td>NaN</td>\n",
       "      <td>RANDOM</td>\n",
       "      <td>0.8</td>\n",
       "      <td>0.10</td>\n",
       "      <td>7</td>\n",
       "      <td>false</td>\n",
       "      <td>0.9</td>\n",
       "      <td>4.0</td>\n",
       "    </tr>\n",
       "    <tr>\n",
       "      <th>2</th>\n",
       "      <td>-0.036641</td>\n",
       "      <td>22.555505</td>\n",
       "      <td>True</td>\n",
       "      <td>SPARSE_OBLIQUE</td>\n",
       "      <td>4.0</td>\n",
       "      <td>STANDARD_DEVIATION</td>\n",
       "      <td>CONTINUOUS</td>\n",
       "      <td>RANDOM</td>\n",
       "      <td>BEST_FIRST_GLOBAL</td>\n",
       "      <td>256.0</td>\n",
       "      <td>RANDOM</td>\n",
       "      <td>1.0</td>\n",
       "      <td>0.10</td>\n",
       "      <td>20</td>\n",
       "      <td>true</td>\n",
       "      <td>0.5</td>\n",
       "      <td>NaN</td>\n",
       "    </tr>\n",
       "    <tr>\n",
       "      <th>3</th>\n",
       "      <td>-0.046776</td>\n",
       "      <td>23.954009</td>\n",
       "      <td>False</td>\n",
       "      <td>SPARSE_OBLIQUE</td>\n",
       "      <td>1.0</td>\n",
       "      <td>NONE</td>\n",
       "      <td>BINARY</td>\n",
       "      <td>CART</td>\n",
       "      <td>BEST_FIRST_GLOBAL</td>\n",
       "      <td>64.0</td>\n",
       "      <td>RANDOM</td>\n",
       "      <td>1.0</td>\n",
       "      <td>0.10</td>\n",
       "      <td>20</td>\n",
       "      <td>false</td>\n",
       "      <td>0.2</td>\n",
       "      <td>NaN</td>\n",
       "    </tr>\n",
       "    <tr>\n",
       "      <th>4</th>\n",
       "      <td>-0.038273</td>\n",
       "      <td>25.311006</td>\n",
       "      <td>False</td>\n",
       "      <td>SPARSE_OBLIQUE</td>\n",
       "      <td>2.0</td>\n",
       "      <td>NONE</td>\n",
       "      <td>BINARY</td>\n",
       "      <td>RANDOM</td>\n",
       "      <td>LOCAL</td>\n",
       "      <td>NaN</td>\n",
       "      <td>RANDOM</td>\n",
       "      <td>0.6</td>\n",
       "      <td>0.05</td>\n",
       "      <td>20</td>\n",
       "      <td>false</td>\n",
       "      <td>1.0</td>\n",
       "      <td>4.0</td>\n",
       "    </tr>\n",
       "  </tbody>\n",
       "</table>\n",
       "</div>"
      ],
      "text/plain": [
       "      score  evaluation_time   best      split_axis   \n",
       "0 -0.068042         9.286486  False  SPARSE_OBLIQUE  \\\n",
       "1 -0.076268        11.505253  False  SPARSE_OBLIQUE   \n",
       "2 -0.036641        22.555505   True  SPARSE_OBLIQUE   \n",
       "3 -0.046776        23.954009  False  SPARSE_OBLIQUE   \n",
       "4 -0.038273        25.311006  False  SPARSE_OBLIQUE   \n",
       "\n",
       "   sparse_oblique_projection_density_factor sparse_oblique_normalization   \n",
       "0                                       1.0                      MIN_MAX  \\\n",
       "1                                       3.0           STANDARD_DEVIATION   \n",
       "2                                       4.0           STANDARD_DEVIATION   \n",
       "3                                       1.0                         NONE   \n",
       "4                                       2.0                         NONE   \n",
       "\n",
       "  sparse_oblique_weights categorical_algorithm   growing_strategy   \n",
       "0                 BINARY                  CART  BEST_FIRST_GLOBAL  \\\n",
       "1             CONTINUOUS                  CART              LOCAL   \n",
       "2             CONTINUOUS                RANDOM  BEST_FIRST_GLOBAL   \n",
       "3                 BINARY                  CART  BEST_FIRST_GLOBAL   \n",
       "4                 BINARY                RANDOM              LOCAL   \n",
       "\n",
       "   max_num_nodes sampling_method  subsample  shrinkage  min_examples   \n",
       "0           16.0          RANDOM        0.6       0.10            10  \\\n",
       "1            NaN          RANDOM        0.8       0.10             7   \n",
       "2          256.0          RANDOM        1.0       0.10            20   \n",
       "3           64.0          RANDOM        1.0       0.10            20   \n",
       "4            NaN          RANDOM        0.6       0.05            20   \n",
       "\n",
       "  use_hessian_gain  num_candidate_attributes_ratio  max_depth  \n",
       "0             true                             0.2        NaN  \n",
       "1            false                             0.9        4.0  \n",
       "2             true                             0.5        NaN  \n",
       "3            false                             0.2        NaN  \n",
       "4            false                             1.0        4.0  "
      ]
     },
     "execution_count": 101,
     "metadata": {},
     "output_type": "execute_result"
    }
   ],
   "source": [
    "tuning_logs = tuned_model.make_inspector().tuning_logs()\n",
    "tuning_logs.head()"
   ]
  },
  {
   "cell_type": "code",
   "execution_count": 102,
   "metadata": {},
   "outputs": [
    {
     "data": {
      "image/png": "[encoded data removed]",
      "text/plain": [
       "<Figure size 720x360 with 1 Axes>"
      ]
     },
     "metadata": {
      "needs_background": "light"
     },
     "output_type": "display_data"
    }
   ],
   "source": [
    "plt.figure(figsize=(10, 5))\n",
    "plt.plot(tuning_logs[\"score\"], label=\"current trial\")\n",
    "plt.plot(tuning_logs[\"score\"].cummax(), label=\"best trial\")\n",
    "plt.xlabel(\"Tuning step\")\n",
    "plt.ylabel(\"Tuning score\")\n",
    "plt.legend()\n",
    "plt.show()"
   ]
  },
  {
   "cell_type": "code",
   "execution_count": 103,
   "metadata": {},
   "outputs": [
    {
     "name": "stdout",
     "output_type": "stream",
     "text": [
      "1/1 [==============================] - 0s 66ms/step\n"
     ]
    }
   ],
   "source": [
    "predictions = tuned_model.predict(test_ds)\n",
    "true_anwer = concat([y for x,y in test_ds], axis=0)\n",
    "predicted_answers = argmax(predictions, axis=1)"
   ]
  },
  {
   "cell_type": "code",
   "execution_count": 104,
   "metadata": {},
   "outputs": [
    {
     "data": {
      "text/plain": [
       "<Axes: >"
      ]
     },
     "execution_count": 104,
     "metadata": {},
     "output_type": "execute_result"
    },
    {
     "data": {
      "image/png": "[encoded data removed]",
      "text/plain": [
       "<Figure size 432x288 with 2 Axes>"
      ]
     },
     "metadata": {
      "needs_background": "light"
     },
     "output_type": "display_data"
    }
   ],
   "source": [
    "sns.heatmap(confusion_matrix(true_anwer, predicted_answers), xticklabels = crops, yticklabels = crops,)\n"
   ]
  },
  {
   "cell_type": "code",
   "execution_count": 105,
   "metadata": {},
   "outputs": [
    {
     "name": "stdout",
     "output_type": "stream",
     "text": [
      "              precision    recall  f1-score   support\n",
      "\n",
      "           0       1.00      1.00      1.00        17\n",
      "           1       1.00      1.00      1.00        20\n",
      "           2       1.00      1.00      1.00        22\n",
      "           3       1.00      1.00      1.00        24\n",
      "           4       1.00      1.00      1.00        14\n",
      "           5       1.00      1.00      1.00        17\n",
      "           6       1.00      1.00      1.00        23\n",
      "           7       1.00      1.00      1.00        15\n",
      "           8       0.89      1.00      0.94        16\n",
      "           9       1.00      1.00      1.00        17\n",
      "          10       1.00      0.96      0.98        26\n",
      "          11       1.00      1.00      1.00        16\n",
      "          12       1.00      1.00      1.00        17\n",
      "          13       0.96      1.00      0.98        25\n",
      "          14       1.00      1.00      1.00        23\n",
      "          15       1.00      1.00      1.00        18\n",
      "          16       1.00      1.00      1.00        23\n",
      "          17       1.00      1.00      1.00        24\n",
      "          18       1.00      1.00      1.00        21\n",
      "          19       1.00      1.00      1.00        23\n",
      "          20       1.00      0.92      0.96        26\n",
      "          21       1.00      1.00      1.00        13\n",
      "\n",
      "    accuracy                           0.99       440\n",
      "   macro avg       0.99      0.99      0.99       440\n",
      "weighted avg       0.99      0.99      0.99       440\n",
      "\n"
     ]
    }
   ],
   "source": [
    "print(classification_report(true_anwer, predicted_answers))"
   ]
  }
 ],
 "metadata": {
  "kernelspec": {
   "display_name": "Python 3",
   "language": "python",
   "name": "python3"
  },
  "language_info": {
   "codemirror_mode": {
    "name": "ipython",
    "version": 3
   },
   "file_extension": ".py",
   "mimetype": "text/x-python",
   "name": "python",
   "nbconvert_exporter": "python",
   "pygments_lexer": "ipython3",
   "version": "3.10.6"
  },
  "orig_nbformat": 4
 },
 "nbformat": 4,
 "nbformat_minor": 2
}
