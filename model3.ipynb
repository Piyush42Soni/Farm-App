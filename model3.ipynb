{
 "cells": [
  {
   "cell_type": "code",
   "execution_count": 1,
   "id": "1f89c4ef",
   "metadata": {},
   "outputs": [],
   "source": [
    "#using keras"
   ]
  },
  {
   "cell_type": "code",
   "execution_count": 1,
   "id": "51c3cb40",
   "metadata": {},
   "outputs": [],
   "source": [
    "import tensorflow as tf\n",
    "import numpy as np\n",
    "import matplotlib.pyplot as plt\n",
    "from pandas import read_csv\n",
    "from sklearn.linear_model import LogisticRegression\n",
    "from sklearn.metrics import confusion_matrix,ConfusionMatrixDisplay,classification_report"
   ]
  },
  {
   "cell_type": "code",
   "execution_count": 3,
   "id": "6388f5be",
   "metadata": {},
   "outputs": [],
   "source": [
    "filename = 'C:/Users/dell ap/Downloads/archive (1)/Crop_recommendation.csv'\n",
    "numFeatures = 7\n",
    "data = read_csv(filename)\n",
    "crops = ['apple',\n",
    " 'banana',\n",
    " 'blackgram',\n",
    " 'chickpea',\n",
    " 'coconut',\n",
    " 'coffee',\n",
    " 'cotton',\n",
    " 'grapes',\n",
    " 'jute',\n",
    " 'kidneybeans',\n",
    " 'lentil',\n",
    " 'maize',\n",
    " 'mango',\n",
    " 'mothbeans',\n",
    " 'mungbean',\n",
    " 'muskmelon',\n",
    " 'orange',\n",
    " 'papaya',\n",
    " 'pigeonpeas',\n",
    " 'pomegranate',\n",
    " 'rice',\n",
    " 'watermelon']\n",
    "numLabels = len(crops)"
   ]
  },
  {
   "cell_type": "code",
   "execution_count": 4,
   "id": "a9eeb7e4",
   "metadata": {},
   "outputs": [],
   "source": [
    "xDataset = np.array([[x[0],x[1],x[2],x[3],x[4],x[5],x[6]] for x in data.values])\n",
    "yDataset = np.array([crops.index(y[7]) for y in data.values])\n",
    "\n",
    "for i in range(numFeatures):\n",
    "    xDataset.T[i]=(xDataset.T[i]-xDataset.T[i].min())/(xDataset.T[i].max()-xDataset.T[i].min())\n",
    "\n",
    "trainIndices    = np.random.choice(len(xDataset), round(len(xDataset) * 0.9), replace = False)\n",
    "testIndices     = np.array(list(set(range(len(xDataset))) - set(trainIndices)))\n",
    "\n",
    "xTrain          = xDataset[trainIndices]\n",
    "xTest           = xDataset[testIndices]\n",
    "yTrain          = yDataset[trainIndices]\n",
    "yTest           = yDataset[testIndices]"
   ]
  },
  {
   "cell_type": "code",
   "execution_count": 5,
   "id": "a9573653",
   "metadata": {
    "scrolled": true
   },
   "outputs": [
    {
     "name": "stdout",
     "output_type": "stream",
     "text": [
      "Epoch 1/100\n",
      "62/62 [==============================] - 1s 3ms/step - loss: 2.8298 - accuracy: 0.1318 - mse: 148.9913\n",
      "Epoch 2/100\n",
      "62/62 [==============================] - 0s 3ms/step - loss: 2.1280 - accuracy: 0.3202 - mse: 148.9945\n",
      "Epoch 3/100\n",
      "62/62 [==============================] - 0s 3ms/step - loss: 1.4751 - accuracy: 0.5232 - mse: 148.9990\n",
      "Epoch 4/100\n",
      "62/62 [==============================] - 0s 3ms/step - loss: 1.0661 - accuracy: 0.6707 - mse: 149.0035\n",
      "Epoch 5/100\n",
      "62/62 [==============================] - 0s 3ms/step - loss: 0.7892 - accuracy: 0.7662 - mse: 149.0079\n",
      "Epoch 6/100\n",
      "62/62 [==============================] - 0s 3ms/step - loss: 0.6166 - accuracy: 0.8040 - mse: 149.0123\n",
      "Epoch 7/100\n",
      "62/62 [==============================] - 0s 3ms/step - loss: 0.5082 - accuracy: 0.8343 - mse: 149.0155\n",
      "Epoch 8/100\n",
      "62/62 [==============================] - 0s 2ms/step - loss: 0.4645 - accuracy: 0.8384 - mse: 149.0177\n",
      "Epoch 9/100\n",
      "62/62 [==============================] - 0s 3ms/step - loss: 0.3811 - accuracy: 0.8677 - mse: 149.0196\n",
      "Epoch 10/100\n",
      "62/62 [==============================] - 0s 3ms/step - loss: 0.3462 - accuracy: 0.8793 - mse: 149.0210\n",
      "Epoch 11/100\n",
      "62/62 [==============================] - 0s 2ms/step - loss: 0.3244 - accuracy: 0.8934 - mse: 149.0222\n",
      "Epoch 12/100\n",
      "62/62 [==============================] - 0s 3ms/step - loss: 0.3036 - accuracy: 0.9015 - mse: 149.0229\n",
      "Epoch 13/100\n",
      "62/62 [==============================] - 0s 3ms/step - loss: 0.2616 - accuracy: 0.9136 - mse: 149.0240\n",
      "Epoch 14/100\n",
      "62/62 [==============================] - 0s 2ms/step - loss: 0.2512 - accuracy: 0.9187 - mse: 149.0246\n",
      "Epoch 15/100\n",
      "62/62 [==============================] - 0s 3ms/step - loss: 0.2435 - accuracy: 0.9111 - mse: 149.0249\n",
      "Epoch 16/100\n",
      "62/62 [==============================] - 0s 4ms/step - loss: 0.2135 - accuracy: 0.9288 - mse: 149.0256\n",
      "Epoch 17/100\n",
      "62/62 [==============================] - 0s 3ms/step - loss: 0.2083 - accuracy: 0.9303 - mse: 149.0260\n",
      "Epoch 18/100\n",
      "62/62 [==============================] - 0s 3ms/step - loss: 0.1890 - accuracy: 0.9414 - mse: 149.0267\n",
      "Epoch 19/100\n",
      "62/62 [==============================] - 0s 3ms/step - loss: 0.1835 - accuracy: 0.9369 - mse: 149.0269\n",
      "Epoch 20/100\n",
      "62/62 [==============================] - 0s 3ms/step - loss: 0.1662 - accuracy: 0.9490 - mse: 149.0273\n",
      "Epoch 21/100\n",
      "62/62 [==============================] - 0s 3ms/step - loss: 0.1549 - accuracy: 0.9500 - mse: 149.0279\n",
      "Epoch 22/100\n",
      "62/62 [==============================] - 0s 3ms/step - loss: 0.1356 - accuracy: 0.9611 - mse: 149.0283\n",
      "Epoch 23/100\n",
      "62/62 [==============================] - 0s 3ms/step - loss: 0.1292 - accuracy: 0.9641 - mse: 149.0285\n",
      "Epoch 24/100\n",
      "62/62 [==============================] - 0s 3ms/step - loss: 0.1340 - accuracy: 0.9571 - mse: 149.0287\n",
      "Epoch 25/100\n",
      "62/62 [==============================] - 0s 3ms/step - loss: 0.1237 - accuracy: 0.9652 - mse: 149.0290\n",
      "Epoch 26/100\n",
      "62/62 [==============================] - 0s 2ms/step - loss: 0.1211 - accuracy: 0.9621 - mse: 149.0293\n",
      "Epoch 27/100\n",
      "62/62 [==============================] - 0s 3ms/step - loss: 0.1129 - accuracy: 0.9652 - mse: 149.0294\n",
      "Epoch 28/100\n",
      "62/62 [==============================] - 0s 3ms/step - loss: 0.1113 - accuracy: 0.9606 - mse: 149.0296\n",
      "Epoch 29/100\n",
      "62/62 [==============================] - 0s 3ms/step - loss: 0.1007 - accuracy: 0.9697 - mse: 149.0298\n",
      "Epoch 30/100\n",
      "62/62 [==============================] - 0s 4ms/step - loss: 0.0957 - accuracy: 0.9702 - mse: 149.0301\n",
      "Epoch 31/100\n",
      "62/62 [==============================] - 0s 3ms/step - loss: 0.0953 - accuracy: 0.9717 - mse: 149.0301\n",
      "Epoch 32/100\n",
      "62/62 [==============================] - 0s 3ms/step - loss: 0.0803 - accuracy: 0.9742 - mse: 149.0306\n",
      "Epoch 33/100\n",
      "62/62 [==============================] - 0s 3ms/step - loss: 0.0921 - accuracy: 0.9702 - mse: 149.0307\n",
      "Epoch 34/100\n",
      "62/62 [==============================] - 0s 3ms/step - loss: 0.0842 - accuracy: 0.9727 - mse: 149.0307\n",
      "Epoch 35/100\n",
      "62/62 [==============================] - 0s 3ms/step - loss: 0.0770 - accuracy: 0.9753 - mse: 149.0308\n",
      "Epoch 36/100\n",
      "62/62 [==============================] - 0s 2ms/step - loss: 0.0727 - accuracy: 0.9783 - mse: 149.0310\n",
      "Epoch 37/100\n",
      "62/62 [==============================] - 0s 3ms/step - loss: 0.0740 - accuracy: 0.9747 - mse: 149.0311\n",
      "Epoch 38/100\n",
      "62/62 [==============================] - 0s 3ms/step - loss: 0.0679 - accuracy: 0.9803 - mse: 149.0313\n",
      "Epoch 39/100\n",
      "62/62 [==============================] - 0s 4ms/step - loss: 0.0763 - accuracy: 0.9793 - mse: 149.0311\n",
      "Epoch 40/100\n",
      "62/62 [==============================] - 0s 3ms/step - loss: 0.0684 - accuracy: 0.9763 - mse: 149.0314\n",
      "Epoch 41/100\n",
      "62/62 [==============================] - 0s 3ms/step - loss: 0.0649 - accuracy: 0.9773 - mse: 149.0315\n",
      "Epoch 42/100\n",
      "62/62 [==============================] - 0s 4ms/step - loss: 0.0602 - accuracy: 0.9813 - mse: 149.0316\n",
      "Epoch 43/100\n",
      "62/62 [==============================] - 0s 4ms/step - loss: 0.0582 - accuracy: 0.9788 - mse: 149.0316\n",
      "Epoch 44/100\n",
      "62/62 [==============================] - 0s 4ms/step - loss: 0.0615 - accuracy: 0.9793 - mse: 149.0317\n",
      "Epoch 45/100\n",
      "62/62 [==============================] - 0s 4ms/step - loss: 0.0510 - accuracy: 0.9823 - mse: 149.0320\n",
      "Epoch 46/100\n",
      "62/62 [==============================] - 0s 3ms/step - loss: 0.0500 - accuracy: 0.9843 - mse: 149.0320\n",
      "Epoch 47/100\n",
      "62/62 [==============================] - 0s 3ms/step - loss: 0.0548 - accuracy: 0.9813 - mse: 149.0318\n",
      "Epoch 48/100\n",
      "62/62 [==============================] - 0s 3ms/step - loss: 0.0575 - accuracy: 0.9803 - mse: 149.0321\n",
      "Epoch 49/100\n",
      "62/62 [==============================] - 0s 3ms/step - loss: 0.0597 - accuracy: 0.9778 - mse: 149.0321\n",
      "Epoch 50/100\n",
      "62/62 [==============================] - 0s 3ms/step - loss: 0.0510 - accuracy: 0.9818 - mse: 149.0322\n",
      "Epoch 51/100\n",
      "62/62 [==============================] - 0s 3ms/step - loss: 0.0713 - accuracy: 0.9717 - mse: 149.0318\n",
      "Epoch 52/100\n",
      "62/62 [==============================] - 0s 3ms/step - loss: 0.0754 - accuracy: 0.9677 - mse: 149.0320\n",
      "Epoch 53/100\n",
      "62/62 [==============================] - 0s 5ms/step - loss: 0.0466 - accuracy: 0.9864 - mse: 149.0322\n",
      "Epoch 54/100\n",
      "62/62 [==============================] - 0s 5ms/step - loss: 0.0460 - accuracy: 0.9864 - mse: 149.0324\n",
      "Epoch 55/100\n",
      "62/62 [==============================] - 0s 3ms/step - loss: 0.0452 - accuracy: 0.9854 - mse: 149.0325\n",
      "Epoch 56/100\n",
      "62/62 [==============================] - 0s 4ms/step - loss: 0.0507 - accuracy: 0.9813 - mse: 149.0324\n",
      "Epoch 57/100\n",
      "62/62 [==============================] - 0s 4ms/step - loss: 0.0470 - accuracy: 0.9864 - mse: 149.0323\n",
      "Epoch 58/100\n",
      "62/62 [==============================] - 0s 4ms/step - loss: 0.0391 - accuracy: 0.9864 - mse: 149.0325\n",
      "Epoch 59/100\n",
      "62/62 [==============================] - 0s 5ms/step - loss: 0.0472 - accuracy: 0.9828 - mse: 149.0324\n",
      "Epoch 60/100\n",
      "62/62 [==============================] - 0s 4ms/step - loss: 0.0411 - accuracy: 0.9854 - mse: 149.0327\n",
      "Epoch 61/100\n",
      "62/62 [==============================] - 0s 3ms/step - loss: 0.0478 - accuracy: 0.9823 - mse: 149.0325\n",
      "Epoch 62/100\n",
      "62/62 [==============================] - 0s 3ms/step - loss: 0.0395 - accuracy: 0.9879 - mse: 149.0327\n",
      "Epoch 63/100\n",
      "62/62 [==============================] - 0s 2ms/step - loss: 0.0427 - accuracy: 0.9833 - mse: 149.0326\n",
      "Epoch 64/100\n",
      "62/62 [==============================] - 0s 2ms/step - loss: 0.0506 - accuracy: 0.9778 - mse: 149.0323\n",
      "Epoch 65/100\n",
      "62/62 [==============================] - 0s 2ms/step - loss: 0.0440 - accuracy: 0.9823 - mse: 149.0325\n",
      "Epoch 66/100\n",
      "62/62 [==============================] - 0s 3ms/step - loss: 0.0379 - accuracy: 0.9889 - mse: 149.0327\n",
      "Epoch 67/100\n",
      "62/62 [==============================] - 0s 2ms/step - loss: 0.0390 - accuracy: 0.9854 - mse: 149.0327\n",
      "Epoch 68/100\n",
      "62/62 [==============================] - 0s 3ms/step - loss: 0.0443 - accuracy: 0.9828 - mse: 149.0328\n",
      "Epoch 69/100\n",
      "62/62 [==============================] - 0s 3ms/step - loss: 0.0356 - accuracy: 0.9869 - mse: 149.0329\n",
      "Epoch 70/100\n",
      "62/62 [==============================] - 0s 3ms/step - loss: 0.0405 - accuracy: 0.9838 - mse: 149.0329\n",
      "Epoch 71/100\n",
      "62/62 [==============================] - 0s 3ms/step - loss: 0.0531 - accuracy: 0.9818 - mse: 149.0326\n",
      "Epoch 72/100\n",
      "62/62 [==============================] - 0s 3ms/step - loss: 0.0545 - accuracy: 0.9788 - mse: 149.0325\n",
      "Epoch 73/100\n",
      "62/62 [==============================] - 0s 3ms/step - loss: 0.0404 - accuracy: 0.9874 - mse: 149.0329\n",
      "Epoch 74/100\n",
      "62/62 [==============================] - 0s 3ms/step - loss: 0.0434 - accuracy: 0.9848 - mse: 149.0327\n",
      "Epoch 75/100\n",
      "62/62 [==============================] - 0s 2ms/step - loss: 0.0334 - accuracy: 0.9874 - mse: 149.0329\n",
      "Epoch 76/100\n",
      "62/62 [==============================] - 0s 3ms/step - loss: 0.0346 - accuracy: 0.9889 - mse: 149.0329\n",
      "Epoch 77/100\n",
      "62/62 [==============================] - 0s 2ms/step - loss: 0.0365 - accuracy: 0.9864 - mse: 149.0328\n",
      "Epoch 78/100\n",
      "62/62 [==============================] - 0s 3ms/step - loss: 0.0375 - accuracy: 0.9869 - mse: 149.0330\n",
      "Epoch 79/100\n",
      "62/62 [==============================] - 0s 2ms/step - loss: 0.0414 - accuracy: 0.9838 - mse: 149.0328\n",
      "Epoch 80/100\n",
      "62/62 [==============================] - 0s 3ms/step - loss: 0.0370 - accuracy: 0.9859 - mse: 149.0329\n",
      "Epoch 81/100\n",
      "62/62 [==============================] - 0s 3ms/step - loss: 0.0419 - accuracy: 0.9838 - mse: 149.0329\n",
      "Epoch 82/100\n",
      "62/62 [==============================] - 0s 2ms/step - loss: 0.0418 - accuracy: 0.9838 - mse: 149.0329\n",
      "Epoch 83/100\n",
      "62/62 [==============================] - 0s 3ms/step - loss: 0.0332 - accuracy: 0.9848 - mse: 149.0331\n",
      "Epoch 84/100\n",
      "62/62 [==============================] - 0s 3ms/step - loss: 0.0451 - accuracy: 0.9818 - mse: 149.0328\n",
      "Epoch 85/100\n",
      "62/62 [==============================] - 0s 3ms/step - loss: 0.0340 - accuracy: 0.9884 - mse: 149.0331\n",
      "Epoch 86/100\n",
      "62/62 [==============================] - 0s 3ms/step - loss: 0.0367 - accuracy: 0.9838 - mse: 149.0330\n",
      "Epoch 87/100\n",
      "62/62 [==============================] - 0s 4ms/step - loss: 0.0362 - accuracy: 0.9874 - mse: 149.0331\n",
      "Epoch 88/100\n",
      "62/62 [==============================] - 0s 3ms/step - loss: 0.0333 - accuracy: 0.9889 - mse: 149.0331\n",
      "Epoch 89/100\n",
      "62/62 [==============================] - 0s 4ms/step - loss: 0.0413 - accuracy: 0.9833 - mse: 149.0330\n",
      "Epoch 90/100\n",
      "62/62 [==============================] - 0s 2ms/step - loss: 0.0389 - accuracy: 0.9843 - mse: 149.0331\n",
      "Epoch 91/100\n",
      "62/62 [==============================] - 0s 3ms/step - loss: 0.0377 - accuracy: 0.9854 - mse: 149.0330\n",
      "Epoch 92/100\n",
      "62/62 [==============================] - 0s 2ms/step - loss: 0.0268 - accuracy: 0.9914 - mse: 149.0334\n",
      "Epoch 93/100\n",
      "62/62 [==============================] - 0s 3ms/step - loss: 0.0335 - accuracy: 0.9889 - mse: 149.0331\n",
      "Epoch 94/100\n",
      "62/62 [==============================] - 0s 3ms/step - loss: 0.0281 - accuracy: 0.9909 - mse: 149.0333\n",
      "Epoch 95/100\n",
      "62/62 [==============================] - 0s 3ms/step - loss: 0.0307 - accuracy: 0.9914 - mse: 149.0332\n",
      "Epoch 96/100\n",
      "62/62 [==============================] - 0s 3ms/step - loss: 0.0325 - accuracy: 0.9904 - mse: 149.0332\n",
      "Epoch 97/100\n",
      "62/62 [==============================] - 0s 3ms/step - loss: 0.0382 - accuracy: 0.9864 - mse: 149.0331\n",
      "Epoch 98/100\n",
      "62/62 [==============================] - 0s 3ms/step - loss: 0.0318 - accuracy: 0.9879 - mse: 149.0332\n",
      "Epoch 99/100\n",
      "62/62 [==============================] - 0s 3ms/step - loss: 0.0413 - accuracy: 0.9813 - mse: 149.0330\n",
      "Epoch 100/100\n",
      "62/62 [==============================] - 0s 3ms/step - loss: 0.0401 - accuracy: 0.9869 - mse: 149.0330\n",
      "7/7 [==============================] - 0s 1ms/step - loss: 0.1014 - accuracy: 0.9773 - mse: 154.5993\n"
     ]
    },
    {
     "data": {
      "text/plain": [
       "[0.10142362862825394, 0.9772727489471436, 154.5993194580078]"
      ]
     },
     "execution_count": 5,
     "metadata": {},
     "output_type": "execute_result"
    }
   ],
   "source": [
    "tf.keras.backend.clear_session()\n",
    "model = tf.keras.models.Sequential([tf.keras.layers.Dense(1000, input_shape=(numFeatures,), activation=tf.nn.relu), \n",
    "                                    tf.keras.layers.Dense(100, activation=tf.nn.relu), \n",
    "                                    tf.keras.layers.Dense(10, activation=tf.nn.relu), \n",
    "                                    tf.keras.layers.Dense(numLabels, activation=tf.nn.softmax)])\n",
    "model.compile(loss='sparse_categorical_crossentropy',optimizer='adam',metrics=['accuracy','mse'])\n",
    "model.fit(xTrain, yTrain, epochs=100)\n",
    "model.evaluate(xTest, yTest)"
   ]
  },
  {
   "cell_type": "code",
   "execution_count": 6,
   "id": "dfaf0695",
   "metadata": {
    "scrolled": false
   },
   "outputs": [
    {
     "name": "stdout",
     "output_type": "stream",
     "text": [
      "7/7 [==============================] - 0s 3ms/step\n"
     ]
    },
    {
     "data": {
      "image/png": "[encoded data removed]",
      "text/plain": [
       "<Figure size 432x288 with 2 Axes>"
      ]
     },
     "metadata": {
      "needs_background": "light"
     },
     "output_type": "display_data"
    }
   ],
   "source": [
    "y_prediction = model.predict(xTest)\n",
    "y_prediction = np.argmax (y_prediction, axis = 1)\n",
    "#y_test=np.argmax(yTest, axis=1)\n",
    "#Create confusion matrix and normalizes it over predicted (columns)\n",
    "result = confusion_matrix(yTest, y_prediction , normalize='pred')\n",
    "cm_display = ConfusionMatrixDisplay(confusion_matrix = result, display_labels = crops)\n",
    "\n",
    "cm_display.plot()\n",
    "plt.show() "
   ]
  },
  {
   "cell_type": "code",
   "execution_count": 7,
   "id": "616b1164",
   "metadata": {},
   "outputs": [
    {
     "name": "stdout",
     "output_type": "stream",
     "text": [
      "              precision    recall  f1-score   support\n",
      "\n",
      "           0       1.00      1.00      1.00        12\n",
      "           1       1.00      1.00      1.00         8\n",
      "           2       1.00      0.88      0.93        16\n",
      "           3       1.00      1.00      1.00         3\n",
      "           4       1.00      1.00      1.00         9\n",
      "           5       1.00      1.00      1.00        11\n",
      "           6       1.00      1.00      1.00        10\n",
      "           7       1.00      1.00      1.00        13\n",
      "           8       1.00      1.00      1.00         7\n",
      "           9       1.00      1.00      1.00         8\n",
      "          10       0.50      1.00      0.67         5\n",
      "          11       1.00      1.00      1.00         7\n",
      "          12       1.00      1.00      1.00        13\n",
      "          13       1.00      0.78      0.88         9\n",
      "          14       1.00      0.93      0.96        14\n",
      "          15       1.00      1.00      1.00        10\n",
      "          16       1.00      1.00      1.00        15\n",
      "          17       1.00      1.00      1.00        11\n",
      "          18       1.00      1.00      1.00         8\n",
      "          19       1.00      1.00      1.00        12\n",
      "          20       1.00      1.00      1.00        11\n",
      "          21       1.00      1.00      1.00         8\n",
      "\n",
      "    accuracy                           0.98       220\n",
      "   macro avg       0.98      0.98      0.97       220\n",
      "weighted avg       0.99      0.98      0.98       220\n",
      "\n"
     ]
    }
   ],
   "source": [
    "print(classification_report(yTest, y_prediction))"
   ]
  },
  {
   "cell_type": "code",
   "execution_count": 14,
   "id": "a3120b26",
   "metadata": {},
   "outputs": [
    {
     "data": {
      "image/png": "[encoded data removed]",
      "text/plain": [
       "<Figure size 432x288 with 2 Axes>"
      ]
     },
     "metadata": {
      "needs_background": "light"
     },
     "output_type": "display_data"
    }
   ],
   "source": [
    "lr = LogisticRegression()\n",
    "model = lr.fit(xTrain, yTrain)\n",
    "lr_predict = lr.predict(xTest)\n",
    "result = confusion_matrix(yTest,lr_predict, normalize='pred')\n",
    "cm_display = ConfusionMatrixDisplay(confusion_matrix = result, display_labels = crops)\n",
    "cm_display.plot()\n",
    "plt.show() "
   ]
  }
 ],
 "metadata": {
  "kernelspec": {
   "display_name": "Python 3 (ipykernel)",
   "language": "python",
   "name": "python3"
  },
  "language_info": {
   "codemirror_mode": {
    "name": "ipython",
    "version": 3
   },
   "file_extension": ".py",
   "mimetype": "text/x-python",
   "name": "python",
   "nbconvert_exporter": "python",
   "pygments_lexer": "ipython3",
   "version": "3.9.13"
  }
 },
 "nbformat": 4,
 "nbformat_minor": 5
}
